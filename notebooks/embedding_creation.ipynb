{
 "cells": [
  {
   "cell_type": "code",
   "execution_count": 1,
   "id": "94026c14",
   "metadata": {},
   "outputs": [],
   "source": [
    "import pandas as pd\n",
    "import os\n",
    "from langchain.document_loaders import UnstructuredPDFLoader\n",
    "from langchain.vectorstores import Chroma\n",
    "from langchain.embeddings.openai import OpenAIEmbeddings\n",
    "from langchain.llms import OpenAI\n",
    "from langchain.chains.question_answering import load_qa_chain\n",
    "from langchain.chat_models import ChatOpenAI\n",
    "from langchain.indexes import VectorstoreIndexCreator\n",
    "from langchain.chains import RetrievalQA\n",
    "from nltk.tokenize import sent_tokenize\n",
    "import faiss\n",
    "\n",
    "from langchain.embeddings import HuggingFaceEmbeddings, SentenceTransformerEmbeddings\n",
    "from langchain.embeddings.spacy_embeddings import SpacyEmbeddings\n",
    "from langchain.embeddings import AlephAlphaAsymmetricSemanticEmbedding\n",
    "from langchain.embeddings import GPT4AllEmbeddings\n",
    "from langchain.text_splitter import CharacterTextSplitter\n",
    "from langchain.vectorstores import Chroma"
   ]
  },
  {
   "cell_type": "code",
   "execution_count": 17,
   "id": "2c2a644f",
   "metadata": {},
   "outputs": [],
   "source": [
    "df = pd.read_csv(\"../data/genai_poc/processed/text_extracted_sectional_data_25_10_2023.csv\")"
   ]
  },
  {
   "cell_type": "code",
   "execution_count": 18,
   "id": "706c3760",
   "metadata": {},
   "outputs": [
    {
     "data": {
      "text/html": [
       "<div>\n",
       "<style scoped>\n",
       "    .dataframe tbody tr th:only-of-type {\n",
       "        vertical-align: middle;\n",
       "    }\n",
       "\n",
       "    .dataframe tbody tr th {\n",
       "        vertical-align: top;\n",
       "    }\n",
       "\n",
       "    .dataframe thead th {\n",
       "        text-align: right;\n",
       "    }\n",
       "</style>\n",
       "<table border=\"1\" class=\"dataframe\">\n",
       "  <thead>\n",
       "    <tr style=\"text-align: right;\">\n",
       "      <th></th>\n",
       "      <th>doc_id</th>\n",
       "      <th>page</th>\n",
       "      <th>section_id</th>\n",
       "      <th>sections</th>\n",
       "    </tr>\n",
       "  </thead>\n",
       "  <tbody>\n",
       "    <tr>\n",
       "      <th>0</th>\n",
       "      <td>0</td>\n",
       "      <td>1</td>\n",
       "      <td>0</td>\n",
       "      <td>Abstract: The fracture behavior of the Cu/Sn-3...</td>\n",
       "    </tr>\n",
       "    <tr>\n",
       "      <th>1</th>\n",
       "      <td>0</td>\n",
       "      <td>1</td>\n",
       "      <td>5</td>\n",
       "      <td>The failure of a solder joint is a problem tha...</td>\n",
       "    </tr>\n",
       "    <tr>\n",
       "      <th>2</th>\n",
       "      <td>0</td>\n",
       "      <td>2</td>\n",
       "      <td>0</td>\n",
       "      <td>in their mechanical properties being different...</td>\n",
       "    </tr>\n",
       "    <tr>\n",
       "      <th>3</th>\n",
       "      <td>0</td>\n",
       "      <td>2</td>\n",
       "      <td>1</td>\n",
       "      <td>Existing studies have conducted extensive nume...</td>\n",
       "    </tr>\n",
       "    <tr>\n",
       "      <th>4</th>\n",
       "      <td>0</td>\n",
       "      <td>2</td>\n",
       "      <td>2</td>\n",
       "      <td>Currently, many related studies have been carr...</td>\n",
       "    </tr>\n",
       "    <tr>\n",
       "      <th>...</th>\n",
       "      <td>...</td>\n",
       "      <td>...</td>\n",
       "      <td>...</td>\n",
       "      <td>...</td>\n",
       "    </tr>\n",
       "    <tr>\n",
       "      <th>519</th>\n",
       "      <td>6</td>\n",
       "      <td>10</td>\n",
       "      <td>4</td>\n",
       "      <td>Figure 15. The Coffin Manson model of SAC305 s...</td>\n",
       "    </tr>\n",
       "    <tr>\n",
       "      <th>520</th>\n",
       "      <td>6</td>\n",
       "      <td>11</td>\n",
       "      <td>0</td>\n",
       "      <td>Figure 16. The Coffin Manson equation at diffe...</td>\n",
       "    </tr>\n",
       "    <tr>\n",
       "      <th>521</th>\n",
       "      <td>6</td>\n",
       "      <td>11</td>\n",
       "      <td>2</td>\n",
       "      <td>Figure 17. The prediction models for the coffi...</td>\n",
       "    </tr>\n",
       "    <tr>\n",
       "      <th>522</th>\n",
       "      <td>6</td>\n",
       "      <td>11</td>\n",
       "      <td>3</td>\n",
       "      <td>when the Arrhenius model is applied. By utiliz...</td>\n",
       "    </tr>\n",
       "    <tr>\n",
       "      <th>523</th>\n",
       "      <td>6</td>\n",
       "      <td>12</td>\n",
       "      <td>0</td>\n",
       "      <td>Author contributions Conceptualization, D.B.H,...</td>\n",
       "    </tr>\n",
       "  </tbody>\n",
       "</table>\n",
       "<p>524 rows × 4 columns</p>\n",
       "</div>"
      ],
      "text/plain": [
       "     doc_id  page  section_id  \\\n",
       "0         0     1           0   \n",
       "1         0     1           5   \n",
       "2         0     2           0   \n",
       "3         0     2           1   \n",
       "4         0     2           2   \n",
       "..      ...   ...         ...   \n",
       "519       6    10           4   \n",
       "520       6    11           0   \n",
       "521       6    11           2   \n",
       "522       6    11           3   \n",
       "523       6    12           0   \n",
       "\n",
       "                                              sections  \n",
       "0    Abstract: The fracture behavior of the Cu/Sn-3...  \n",
       "1    The failure of a solder joint is a problem tha...  \n",
       "2    in their mechanical properties being different...  \n",
       "3    Existing studies have conducted extensive nume...  \n",
       "4    Currently, many related studies have been carr...  \n",
       "..                                                 ...  \n",
       "519  Figure 15. The Coffin Manson model of SAC305 s...  \n",
       "520  Figure 16. The Coffin Manson equation at diffe...  \n",
       "521  Figure 17. The prediction models for the coffi...  \n",
       "522  when the Arrhenius model is applied. By utiliz...  \n",
       "523  Author contributions Conceptualization, D.B.H,...  \n",
       "\n",
       "[524 rows x 4 columns]"
      ]
     },
     "execution_count": 18,
     "metadata": {},
     "output_type": "execute_result"
    }
   ],
   "source": [
    "df"
   ]
  },
  {
   "cell_type": "code",
   "execution_count": 3,
   "id": "fb5576bc",
   "metadata": {},
   "outputs": [],
   "source": [
    "class Embedding:\n",
    "    \n",
    "    def __init__(self, embedding_model = None):\n",
    "        \n",
    "        if embedding_model is None:\n",
    "            raise ValueError(\"Please pass a valid Langchain embedding model \")\n",
    "        self.embedding_model = embedding_model\n",
    "        \n",
    "    def create_embedding_text(self, text: str = None):\n",
    "        \n",
    "        if text is None:\n",
    "            raise ValueError(\"Please provide text for which you need to create embedding\")\n",
    "            \n",
    "        embedded_vector = self.embedding_model.embed_query(text)\n",
    "        return embedded_vector\n",
    "    \n",
    "    def create_embedding_document(self, list_of_sentences: list = None):\n",
    "        \n",
    "        if list_of_sentences is None:\n",
    "            raise ValueError(\"Please provide a valid list of sentences for which you need to create embedding\")\n",
    "        \n",
    "        embedded_vector_docs = self.embedding_model.embed_documents(list_of_sentences)\n",
    "        return embedded_vector_docs"
   ]
  },
  {
   "cell_type": "code",
   "execution_count": 7,
   "id": "907acf16",
   "metadata": {},
   "outputs": [],
   "source": [
    "from langchain.document_loaders import TextLoader, PDFPlumberLoader"
   ]
  },
  {
   "cell_type": "code",
   "execution_count": 9,
   "id": "226c20d3",
   "metadata": {},
   "outputs": [],
   "source": [
    "loader = PDFPlumberLoader('../data/genai_poc/raw/coefficient extraction of sac305 using equation informed NNs.pdf')\n",
    "documents = loader.load()"
   ]
  },
  {
   "cell_type": "code",
   "execution_count": 10,
   "id": "884e6a10",
   "metadata": {},
   "outputs": [],
   "source": [
    "text_splitter = CharacterTextSplitter(chunk_size=1000, chunk_overlap=0)\n",
    "docs = text_splitter.split_documents(documents)"
   ]
  },
  {
   "cell_type": "code",
   "execution_count": 16,
   "id": "e55f6e7b",
   "metadata": {},
   "outputs": [
    {
     "name": "stdout",
     "output_type": "stream",
     "text": [
      "Materials2023,16,4922 2of16\n",
      "Chen[16],Deshpandeetal.[17],Wangetal.[5],andYanetal.[18]forlifepredictionusing\n",
      "Manson–Coffintypeequations.\n",
      "MaandSuhlingreviewedtheconstitutiveequationandthecorrespondingcoefficients\n",
      "oflead-freesolderjoint[19],andsignificantcoefficientdiscrepancieshavebeenreported.\n",
      "Ontheotherhand,finiteelementengineersfrequentlyfacedifficultiesinselectinganappro-\n",
      "priatematerialmodelanditsparameters,asthemeasurementconditionsmaydifferfrom\n",
      "thoseinpracticalapplications. Kuczynskaetal.[20]performedmechanical/dynamictests\n",
      "againstthesolderjointtoverifytheabilityofthesematerialmodelsandtheircoefficients\n",
      "tomapthelifetimedifferencesdependingonthetemperaturerateunderfieldandtesting\n",
      "conditions,aswellasonthemeanoperatingtemperature.\n",
      "Consideringthemanyapplicationscenarios,whichmayrangefromlowtohightem-\n",
      "peraturesandstrainrates,anemergingtrendencouragesuserstoobtaintheirownmaterial\n",
      "coefficients[5]. Thisapproachemphasizestheimportanceoftailoringthecoefficientstothe\n",
      "specificconditionsencounteredineachuniqueapplication. Theleastsquaresmethodand\n",
      "itsderivativesarefrequentlyemployedinextractingcoefficients. Althoughthisapproach\n",
      "iswellestablished,matrixmultiplicationandinversionmaydiminishcomputationalef-\n",
      "ficiencywhenhandlingextensivedatasets. Moreover,theobtainedcoefficientsbasedon\n",
      "theleastsquaremethodaresensitivetotheoutliers,andthismethoddoesnotapplytothe\n",
      "censoreddata.\n",
      "Historically,machinelearninghasharboredacertainresistancetorule-basedinference.\n",
      "However,theefficacyofneuralnetworksinsymboliccomputationisgainingrecognition\n",
      "by integrating symbolic reasoning with continuous representations. Pioneers such as\n",
      "Zarembaetal.[21]andAllamanis[22]haveexploredtheapplicationofneuralnetworks\n",
      "in handling mathematical objects. A significant advancement came from Lample and\n",
      "Charton[23]whentheyproposedarepresentationformathematicalexpressions. Sharma\n",
      "etal.,Chhabraetal.,andYadavetal. haveappliedneuralnetworkmethodformaterial\n",
      "optimizationstudies[24–26].Asaresult,thetheoreticalbasisforrepresentingmathematical\n",
      "andsymbolicequationsusingneuralnetworksiswell-established.\n",
      "Inthisresearch,wehavedevelopedtheEquation-InformedNeuralNetworks(EINNs)\n",
      "method,synergisticallyincorporatingtheBayesianInference(BI)iterationtechniqueto\n",
      "extractthecoefficientsofconstitutiveequationsfrommeasurementdata. Asvisualizedin\n",
      "Figure1,thefoundationalconceptofEINNsbeginswithconstructinganartificialneural\n",
      "networktoembodytheconstitutiveequation f,wherecoefficientα isdesignatedastheir\n",
      "k\n",
      "respectiveweights. Subsequently,EINNsdeployapre-processingmappingtechniqueon\n",
      "theinput/outputdatapairswhichareobtainedfromtheexperiments,astrategyrooted\n",
      "Materials 2023, 16, x FOR PEER REVIiEnWn euralnetworklearningtheory,andenablesexploringcoefficientfittingacrossva3r ioofu 1s7\n",
      "domainsin-depth.\n",
      "FFiigguurree1 1..T Thheec coonncceepptto offE Eqquuaattioionn--IInnffoorrmmeeddN NeeuurraallN Neetwtwoorrkkss( E(EININNNss).).\n",
      "This paper is organized as follows: the “Theory” section provides an introduction to\n",
      "the framework of Equation-Informed Neural Networks (EINNs) and the numerical Bayes-\n",
      "ian Inference (BI) method. The subsequent section, “EINN Formulation”, presents the con-\n",
      "version process of constitutive equations from their conventional mathematical forms to\n",
      "their EINN equivalents, complete with pre-processing mapping and post-processing\n",
      "functions. In the “Applications” section, we apply the EINN formulation to the coefficient\n",
      "extraction of the material constitutive equation pertinent to Pb-free SAC305 solder joints.\n",
      "Detailed discussions and numerical results pertaining to the EINN formulations of the\n",
      "Chaboche, hyperbolic Garofalo, and Anand material models are also included. The paper\n",
      "concludes with a concise summary of our findings.\n",
      "2. Theory\n",
      "2.1. The Framework of Equation-Informed Neural Networks (EINNs)\n",
      "Assume a constitutive equation is given by the function:\n",
      "𝑦 =𝑓(𝑥 ;𝛼 ), (1)\n",
      "(cid:3036) (cid:3037) (cid:3038)\n",
      "where 𝑦, 𝑥, and 𝛼 are vectors in real space with dimensions 𝑖, 𝑗, and 𝑘, respectively.\n",
      "(cid:3036) (cid:3037) (cid:3038)\n",
      "The 𝑥 and 𝑦 represent the input and output of the functions, while 𝛼 refers to the\n",
      "(cid:3037) (cid:3036) (cid:3038)\n",
      "coefficients. Design pre-processing mapping functions:\n",
      "ℳ (cid:3435)𝑥 (cid:3439)=𝑋 and ℳ (𝑦)=𝑌, (2)\n",
      "(cid:3051) (cid:3037) (cid:3037) (cid:3052) (cid:3036) (cid:3036)\n",
      "which serve to effectively modify the domains of 𝑥 and 𝑦 to optimize the precision of\n",
      "(cid:3037) (cid:3036)\n",
      "coefficient extraction. Consequently, a new function can be formulated as 𝑌 =𝐹(𝑋,Α ).\n",
      "(cid:3036) (cid:3037) (cid:3038)\n",
      "Meanwhile, the corresponding neural network representations of 𝑌 are formulated, and\n",
      "(cid:3036)\n",
      "the coefficient Α is assigned as the weighting.\n",
      "(cid:3038)\n",
      "The learning process of the neural network involves continuous adjustment of these\n",
      "weights or coefficients. These adjustments can be computed for each known data pair us-\n",
      "ing steepest-descent-based backpropagation as Α(cid:3041)(cid:3032)(cid:3050) =Α(cid:3041)(cid:3032)(cid:3050)−𝜂Δ (cid:3105)(cid:3052)(cid:3284) . Since these up-\n",
      "(cid:3038) (cid:3038) (cid:3052)(cid:3105)(cid:2937)(cid:3286)\n",
      "dates are independent of each data pair, the computationally expensive matrix multipli-\n",
      "cation and inversion inherent in the least squares-based approaches can be avoided. Fur-\n",
      "thermore, incorporating ratios into the adjustments allows for user emphasis on specific\n",
      "((cid:3039))\n",
      "data pairs. This can be implemented as Α(cid:3041)(cid:3032)(cid:3050) =Α(cid:3041)(cid:3032)(cid:3050)−𝜂 ∑ 𝑟 ∙(cid:4672)Δ (cid:3105)(cid:3052)(cid:3284)(cid:4673) , where l is the\n",
      "(cid:3038) (cid:3038) (cid:3039) (cid:3039) (cid:3052)(cid:3105)(cid:2937)(cid:3286)\n",
      "coefficient adjustment from each data pair and ∑ 𝑟 =1.\n",
      "(cid:3039) (cid:3039)\n",
      "Following several learning iterations with satisfactory accuracy, the coefficient Α of\n",
      "(cid:3038)\n",
      "the constitutive equation can be obtained. However, due to the pre-processing mapping\n"
     ]
    }
   ],
   "source": [
    "print(docs[1].page_content)"
   ]
  },
  {
   "cell_type": "code",
   "execution_count": 126,
   "id": "0d32328d",
   "metadata": {},
   "outputs": [],
   "source": [
    "embedding_function = SentenceTransformerEmbeddings(model_name=\"distilbert-base-nli-stsb-mean-tokens\")"
   ]
  },
  {
   "cell_type": "code",
   "execution_count": 22,
   "id": "e75f4f96",
   "metadata": {},
   "outputs": [],
   "source": []
  },
  {
   "cell_type": "code",
   "execution_count": 24,
   "id": "1b458456",
   "metadata": {},
   "outputs": [],
   "source": [
    "db = Chroma.from_documents(docs, embedding_function)"
   ]
  },
  {
   "cell_type": "code",
   "execution_count": 26,
   "id": "9d12c185",
   "metadata": {
    "scrolled": true
   },
   "outputs": [
    {
     "data": {
      "text/plain": [
       "[Document(page_content='Tonight. I call on the Senate to: Pass the Freedom to Vote Act. Pass the John Lewis Voting Rights Act. And while you’re at it, pass the Disclose Act so Americans can know who is funding our elections. \\n\\nTonight, I’d like to honor someone who has dedicated his life to serve this country: Justice Stephen Breyer—an Army veteran, Constitutional scholar, and retiring Justice of the United States Supreme Court. Justice Breyer, thank you for your service. \\n\\nOne of the most serious constitutional responsibilities a President has is nominating someone to serve on the United States Supreme Court. \\n\\nAnd I did that 4 days ago, when I nominated Circuit Court of Appeals Judge Ketanji Brown Jackson. One of our nation’s top legal minds, who will continue Justice Breyer’s legacy of excellence.', metadata={'source': '../data/genai_poc/raw/state_of_the_union.txt'}),\n",
       " Document(page_content='A former top litigator in private practice. A former federal public defender. And from a family of public school educators and police officers. A consensus builder. Since she’s been nominated, she’s received a broad range of support—from the Fraternal Order of Police to former judges appointed by Democrats and Republicans. \\n\\nAnd if we are to advance liberty and justice, we need to secure the Border and fix the immigration system. \\n\\nWe can do both. At our border, we’ve installed new technology like cutting-edge scanners to better detect drug smuggling.  \\n\\nWe’ve set up joint patrols with Mexico and Guatemala to catch more human traffickers.  \\n\\nWe’re putting in place dedicated immigration judges so families fleeing persecution and violence can have their cases heard faster. \\n\\nWe’re securing commitments and supporting partners in South and Central America to host more refugees and secure their own borders.', metadata={'source': '../data/genai_poc/raw/state_of_the_union.txt'}),\n",
       " Document(page_content='And built the strongest, freest, and most prosperous nation the world has ever known. \\n\\nNow is the hour. \\n\\nOur moment of responsibility. \\n\\nOur test of resolve and conscience, of history itself. \\n\\nIt is in this moment that our character is formed. Our purpose is found. Our future is forged. \\n\\nWell I know this nation.  \\n\\nWe will meet the test. \\n\\nTo protect freedom and liberty, to expand fairness and opportunity. \\n\\nWe will save democracy. \\n\\nAs hard as these times have been, I am more optimistic about America today than I have been my whole life. \\n\\nBecause I see the future that is within our grasp. \\n\\nBecause I know there is simply nothing beyond our capacity. \\n\\nWe are the only nation on Earth that has always turned every crisis we have faced into an opportunity. \\n\\nThe only nation that can be defined by a single word: possibilities. \\n\\nSo on this night, in our 245th year as a nation, I have come to report on the State of the Union.', metadata={'source': '../data/genai_poc/raw/state_of_the_union.txt'}),\n",
       " Document(page_content='And my report is this: the State of the Union is strong—because you, the American people, are strong. \\n\\nWe are stronger today than we were a year ago. \\n\\nAnd we will be stronger a year from now than we are today. \\n\\nNow is our moment to meet and overcome the challenges of our time. \\n\\nAnd we will, as one people. \\n\\nOne America. \\n\\nThe United States of America. \\n\\nMay God bless you all. May God protect our troops.', metadata={'source': '../data/genai_poc/raw/state_of_the_union.txt'})]"
      ]
     },
     "execution_count": 26,
     "metadata": {},
     "output_type": "execute_result"
    }
   ],
   "source": [
    "db.similarity_search(\"stress distribution around the defects\")"
   ]
  },
  {
   "cell_type": "code",
   "execution_count": null,
   "id": "c546d9bb",
   "metadata": {},
   "outputs": [],
   "source": []
  },
  {
   "cell_type": "code",
   "execution_count": null,
   "id": "f91a2611",
   "metadata": {},
   "outputs": [],
   "source": []
  },
  {
   "cell_type": "markdown",
   "id": "896158d7",
   "metadata": {},
   "source": [
    "## Langchain Independent Method"
   ]
  },
  {
   "cell_type": "code",
   "execution_count": 105,
   "id": "1ed2f28b",
   "metadata": {},
   "outputs": [],
   "source": [
    "df = pd.read_csv(\"../data/genai_poc/processed/text_extracted_sectional_data_25_10_2023.csv\")"
   ]
  },
  {
   "cell_type": "code",
   "execution_count": 106,
   "id": "63267287",
   "metadata": {},
   "outputs": [],
   "source": [
    "embeddings = HuggingFaceEmbeddings(model_name=\"distilbert-base-nli-stsb-mean-tokens\")"
   ]
  },
  {
   "cell_type": "code",
   "execution_count": 107,
   "id": "a2de6b72",
   "metadata": {},
   "outputs": [],
   "source": [
    "embed = Embedding(embedding_model=embeddings)"
   ]
  },
  {
   "cell_type": "code",
   "execution_count": 108,
   "id": "4a5ab7cb",
   "metadata": {},
   "outputs": [],
   "source": [
    "df['embeddings'] = df['sections'].apply(lambda x: embed.create_embedding_text(x))"
   ]
  },
  {
   "cell_type": "code",
   "execution_count": 109,
   "id": "8e705b7a",
   "metadata": {},
   "outputs": [],
   "source": [
    "dff = df.drop(['sections'],axis=1)"
   ]
  },
  {
   "cell_type": "code",
   "execution_count": 110,
   "id": "382b0544",
   "metadata": {},
   "outputs": [],
   "source": [
    "dff.to_parquet(\"../data/genai_poc/processed/embedding_text_sentence_transformer.parquet.gzip\",compression='gzip')"
   ]
  },
  {
   "cell_type": "code",
   "execution_count": null,
   "id": "04cafdc9",
   "metadata": {},
   "outputs": [],
   "source": []
  },
  {
   "cell_type": "markdown",
   "id": "098f4748",
   "metadata": {},
   "source": [
    "#### Read Embedding and Proceed Further"
   ]
  },
  {
   "cell_type": "code",
   "execution_count": 150,
   "id": "00b9688a",
   "metadata": {},
   "outputs": [],
   "source": [
    "df = pd.read_parquet(\"../data/genai_poc/processed/embedding_text_sentence_transformer.parquet.gzip\")"
   ]
  },
  {
   "cell_type": "code",
   "execution_count": 112,
   "id": "ab98f9f5",
   "metadata": {},
   "outputs": [
    {
     "data": {
      "text/plain": [
       "Index(['doc_id', 'page', 'section_id', 'embeddings'], dtype='object')"
      ]
     },
     "execution_count": 112,
     "metadata": {},
     "output_type": "execute_result"
    }
   ],
   "source": [
    "df.columns"
   ]
  },
  {
   "cell_type": "code",
   "execution_count": 113,
   "id": "7bf55d35",
   "metadata": {},
   "outputs": [],
   "source": [
    "df['id_process'] = df[['doc_id','page','section_id']].apply(lambda x: str(x[0]+1)+str(x[1])+str(x[2]), axis=1)"
   ]
  },
  {
   "cell_type": "code",
   "execution_count": 114,
   "id": "08a643b0",
   "metadata": {},
   "outputs": [],
   "source": [
    "df['id_process_len'] = df['id_process'].str.len()"
   ]
  },
  {
   "cell_type": "code",
   "execution_count": 115,
   "id": "4d41d801",
   "metadata": {},
   "outputs": [],
   "source": [
    "df['id_process'] = df['id_process'].apply(lambda x: x+'1'*(5-len(x)))"
   ]
  },
  {
   "cell_type": "code",
   "execution_count": 116,
   "id": "bde18dbf",
   "metadata": {},
   "outputs": [],
   "source": [
    "df.id_process = df.id_process.astype('int')"
   ]
  },
  {
   "cell_type": "code",
   "execution_count": 117,
   "id": "44db321f",
   "metadata": {},
   "outputs": [],
   "source": [
    "import numpy as np\n",
    "embeddings = df.embeddings.to_list()\n",
    "embeddings = np.array(embeddings)"
   ]
  },
  {
   "cell_type": "code",
   "execution_count": 118,
   "id": "3f36f8e0",
   "metadata": {},
   "outputs": [],
   "source": [
    "embeddings = np.array([embedding for embedding in embeddings]).astype(\"float32\")\n",
    "# Step 2: Instantiate the index\n",
    "index = faiss.IndexFlatL2(embeddings.shape[1])\n",
    "# Step 3: Pass the index to IndexIDMap\n",
    "index = faiss.IndexIDMap(index)\n",
    "# Step 4: Add vectors and their IDs\n",
    "index.add_with_ids(embeddings, df.id_process.values)"
   ]
  },
  {
   "cell_type": "code",
   "execution_count": 137,
   "id": "2dad6183",
   "metadata": {},
   "outputs": [],
   "source": [
    "def vector_search(query, num_results=20, index=None, model=None):\n",
    "    index = index\n",
    "    vector = model.create_embedding_text(query)\n",
    "    D, I = index.search(np.array([vector]).astype(\"float32\"), k=num_results)\n",
    "    return D, I"
   ]
  },
  {
   "cell_type": "code",
   "execution_count": 157,
   "id": "b19396d9",
   "metadata": {},
   "outputs": [],
   "source": [
    "text_df = pd.read_csv(\"../data/genai_poc/processed/text_extracted_sectional_data_25_10_2023.csv\")"
   ]
  },
  {
   "cell_type": "code",
   "execution_count": 171,
   "id": "80cb2078",
   "metadata": {},
   "outputs": [],
   "source": [
    "text_df_page = pd.read_csv(\"../data/genai_poc/processed/text_extracted_page_data_31_10_2023.csv\")"
   ]
  },
  {
   "cell_type": "code",
   "execution_count": 158,
   "id": "b4e18aa9",
   "metadata": {},
   "outputs": [],
   "source": [
    "text_df['id_process'] = text_df[['doc_id','page','section_id']].apply(lambda x: str(x[0]+1)+str(x[1])+str(x[2]), axis=1)\n",
    "\n",
    "text_df['id_process_len'] = text_df['id_process'].str.len()\n",
    "\n",
    "text_df['id_process'] = text_df['id_process'].apply(lambda x: x+'1'*(5-len(x)))\n",
    "\n",
    "text_df.id_process = text_df.id_process.astype('int')"
   ]
  },
  {
   "cell_type": "code",
   "execution_count": 161,
   "id": "7f4b067f",
   "metadata": {},
   "outputs": [],
   "source": [
    "query = \"defects underwent severe deformation\""
   ]
  },
  {
   "cell_type": "code",
   "execution_count": 177,
   "id": "450b5c0e",
   "metadata": {},
   "outputs": [],
   "source": [
    "D, I = vector_search(query,num_results=10,index=index,model=embed)"
   ]
  },
  {
   "cell_type": "code",
   "execution_count": null,
   "id": "5f33df6f",
   "metadata": {},
   "outputs": [],
   "source": []
  },
  {
   "cell_type": "code",
   "execution_count": 178,
   "id": "241361cc",
   "metadata": {},
   "outputs": [],
   "source": [
    "text_df.id_process = text_df.id_process.astype('int') ### added on 21.03.2022\n",
    "    \n",
    "result_df = [text_df[text_df.id_process == idx]['sections'].values.tolist()[0] for idx in I[0]]"
   ]
  },
  {
   "cell_type": "code",
   "execution_count": 179,
   "id": "c1926fe8",
   "metadata": {},
   "outputs": [],
   "source": [
    "result_df_ids = [text_df[text_df.id_process == idx][['doc_id','page']].values.tolist()[0] for idx in I[0]]"
   ]
  },
  {
   "cell_type": "code",
   "execution_count": 180,
   "id": "38e592ae",
   "metadata": {},
   "outputs": [],
   "source": [
    "result_df_page = [text_df_page[(text_df_page['doc_id']==x[0])&(text_df_page['page']==x[1])]['raw_texts_NarrativeText'].values.tolist()[0].replace(\"\\n\\n\",\" \") for x in result_df_ids]"
   ]
  },
  {
   "cell_type": "code",
   "execution_count": 181,
   "id": "71c26cca",
   "metadata": {},
   "outputs": [
    {
     "name": "stdout",
     "output_type": "stream",
     "text": [
      "tively. According to the characteristics of the fracture morphology, it can be determined complex, and included the fracture surface of two IMC layers and the solder material it- surface was perpendicular to the loading axis. They corresponded to the Q1, Q2, and Q3 regions in Figure 8b,c, respectively. However, since the fracture surfaces of Q1–Q3 in Fig-ure 7 were not on the same plane, the S4 fracture surface was formed due to the shear deformation. Obviously, there were significant differences between the tensile fracture Figure 8a showed the 3D CT reconstruction morphology of the solder joints after the fractures. As could be seen, the final fracture morphology of the solder joint was relatively self. Figure 8b,c showed the fracture morphology of the lower and upper parts, respec- that a tensile fracture occurred in the Q1, Q2, and Q3 regions in Figure 7, and the fracture defect in the upper right corner of the Q2 region was torn. However, there was no obvious Figure 6. Engineering stress–strain curve of Cu/SAC305/Cu solder joint obtained by in situ tensile test. Positions 1, 2 and 3 represented the suspending points, and 4 represented the fracture point. 3.3. Fracture Process and Fracture Morphology along the IMC layer to the middle of the solder joint. Under continuous tension, the solder joint finally broke. Figure 7 showed the 3D defect evolution of the solder joints during the tensile process mation mechanism of the two types of defects was explained in detail in Section 4.1. The in the Q1 region penetrated longitudinally and connected with various spherical pores in reached 2.77%, the flakes at the Q1 region opened and propagated forward. A spherical at room temperature. The upper and lower boundary layers were the IMC layers con- shown in Figure 7a. As could be seen, a flake defect existed in the middle Q1 region. More- spherical pores in the Q2 region were connected at the upper IMC. When the deformation the Q3 region. The defects in the Q2 region formed cracks, which propagated forward over, many pores were produced in the Q2 and Q3 regions near the IMC layer. The for- change in the separated pores in the Q3 region. When the strain was 13.46%, the defects nected to the Cu bars. The microstructure of the internal defects at the initial state was Figure 8a showed the 3D CT reconstruction morphology of the solder joints after the fractures. As could be seen, the ﬁnal fracture morphology of the solder joint was relatively complex, and included the fracture surface of two IMC layers and the solder material itself. Figure 8b,c showed the fracture morphology of the lower and upper parts, respectively. According to the characteristics of the fracture morphology, it can be determined that a\n",
      "\n",
      "\n",
      "==============================\n",
      "\n",
      "\n",
      "defect in the upper right corner of the Q2 region was torn. However, there was no obvious Figure 6. Engineering stress–strain curve of Cu/SAC305/Cu solder joint obtained by in situ tensile test. Positions 1, 2 and 3 represented the suspending points, and 4 represented the fracture point. 3.3. Fracture Process and Fracture Morphology along the IMC layer to the middle of the solder joint. Under continuous tension, the solder joint finally broke. Figure 7 showed the 3D defect evolution of the solder joints during the tensile process mation mechanism of the two types of defects was explained in detail in Section 4.1. The in the Q1 region penetrated longitudinally and connected with various spherical pores in reached 2.77%, the flakes at the Q1 region opened and propagated forward. A spherical at room temperature. The upper and lower boundary layers were the IMC layers con- shown in Figure 7a. As could be seen, a flake defect existed in the middle Q1 region. More- spherical pores in the Q2 region were connected at the upper IMC. When the deformation the Q3 region. The defects in the Q2 region formed cracks, which propagated forward over, many pores were produced in the Q2 and Q3 regions near the IMC layer. The for- change in the separated pores in the Q3 region. When the strain was 13.46%, the defects nected to the Cu bars. The microstructure of the internal defects at the initial state was Figure 6 showed the engineering stress–strain curve of the Cu/SAC305/Cu solder joint, which was obtained from the load–displacement data of the testing machine. As could be seen from the curve, the fracture strength of the solder joint was 51.52 MPa, which was very close to the tensile strength of 55.00 MPa of the SAC305 alloy [41]. In this experiment, the gap size of the two Cu bars was 1.01 mm. Zimrich et al. [42] reported that, as the solder gap increased, the fracture strength of the solder joint gradually approached the tensile strength of the solder. Additionally, as could be seen from the curve in Figure 6, the tensile process of the solder joints could be divided into the deformation zone (I) and the crack propagation and ﬁnal fracture zone (II). For both zones, the internal deformation of the material was discussed in Section 3.3. Moreover, the fracture strain of the solder joint reached 19.87%, which was mainly related to the good toughness of the SAC305 alloy [43]. Figure 6. Engineering stress–strain curve of Cu/SAC305/Cu solder joint obtained by in situ tensile test. Positions 1, 2 and 3 represented the suspending points, and 4 represented the fracture point. Figure 7 showed the 3D defect evolution of the solder joints during the tensile process at room temperature. The upper and lower boundary layers were the IMC layers connected to the Cu bars. The microstructure of the internal defects at the initial state was shown in Figure 7a. As could be seen, a ﬂake defect existed in the middle Q1 region. Moreover, many pores were produced in the Q2 and Q3 regions near the IMC layer. The formation mechanism of the two types of defects was explained in detail in Section 4.1. The spherical pores in the Q2 region were connected at the upper IMC. When the deformation reached 2.77%, the ﬂakes at the Q1 region opened and propagated forward. A spherical defect in the upper right corner of the Q2 region was torn. However, there was no obvious change in the separated pores in the Q3 region. When the strain was 13.46%, the defects in the Q1 region penetrated longitudinally and connected with various spherical pores in the Q3 region. The defects in the Q2 region formed cracks, which propagated forward along the IMC layer to the middle of the solder joint. Under continuous tension, the solder joint ﬁnally broke.\n",
      "\n",
      "\n",
      "==============================\n",
      "\n",
      "\n",
      "tively. According to the characteristics of the fracture morphology, it can be determined complex, and included the fracture surface of two IMC layers and the solder material it- surface was perpendicular to the loading axis. They corresponded to the Q1, Q2, and Q3 regions in Figure 8b,c, respectively. However, since the fracture surfaces of Q1–Q3 in Fig-ure 7 were not on the same plane, the S4 fracture surface was formed due to the shear deformation. Obviously, there were significant differences between the tensile fracture Figure 8a showed the 3D CT reconstruction morphology of the solder joints after the fractures. As could be seen, the final fracture morphology of the solder joint was relatively self. Figure 8b,c showed the fracture morphology of the lower and upper parts, respec- that a tensile fracture occurred in the Q1, Q2, and Q3 regions in Figure 7, and the fracture defect in the upper right corner of the Q2 region was torn. However, there was no obvious Figure 6. Engineering stress–strain curve of Cu/SAC305/Cu solder joint obtained by in situ tensile test. Positions 1, 2 and 3 represented the suspending points, and 4 represented the fracture point. 3.3. Fracture Process and Fracture Morphology along the IMC layer to the middle of the solder joint. Under continuous tension, the solder joint finally broke. Figure 7 showed the 3D defect evolution of the solder joints during the tensile process mation mechanism of the two types of defects was explained in detail in Section 4.1. The in the Q1 region penetrated longitudinally and connected with various spherical pores in reached 2.77%, the flakes at the Q1 region opened and propagated forward. A spherical at room temperature. The upper and lower boundary layers were the IMC layers con- shown in Figure 7a. As could be seen, a flake defect existed in the middle Q1 region. More- spherical pores in the Q2 region were connected at the upper IMC. When the deformation the Q3 region. The defects in the Q2 region formed cracks, which propagated forward over, many pores were produced in the Q2 and Q3 regions near the IMC layer. The for- change in the separated pores in the Q3 region. When the strain was 13.46%, the defects nected to the Cu bars. The microstructure of the internal defects at the initial state was Figure 8a showed the 3D CT reconstruction morphology of the solder joints after the fractures. As could be seen, the ﬁnal fracture morphology of the solder joint was relatively complex, and included the fracture surface of two IMC layers and the solder material itself. Figure 8b,c showed the fracture morphology of the lower and upper parts, respectively. According to the characteristics of the fracture morphology, it can be determined that a\n",
      "\n",
      "\n",
      "==============================\n",
      "\n",
      "\n",
      "the crack tip in region Q2 did not; therefore, the cracks did not begin to propagate. How- of water and organic material remained on its surface. In addition, the flux was a volatile the IMCs. Moreover, there were a few pores that did not completely leave the solder. The the flux, remaining water, and organic material to evaporate, and then left the molten flakes existed inside the solder. The flake in region Q1 was perpendicular to the loading ation and propagation for solder joints. 4. Discussion 4.1. Defects Affecting Crack Initiation and Propagation over, when the crack tip stress of the flake crack in region Q1 reached the fracture strength, it was considered that the main causes of the internal defects of solder joints are as follows: ever, the aggregated pores in region Q2 around the IMC layer cracked during loading. axis, while the flake in region Q2 was inside the solder and approximately parallel to the material [10]. Therefore, during the reflow soldering process, a high temperature caused after the surface of the Cu bars was cleaned by solution for cleaning PCB, a small amount solder alloy. However, some gases were not discharged, which resulted in some gases shrinkage pores and flakes might form near the solder surface after the solder solidifies, similar to the crack in the Q1 region in Figure 7a [10]. The position and shape of defects in the solder joints had a significant influence on the solder; and (3) the exhaust of the solder and flux during reflow [18,44]. In this study, remaining in the solder joints to form spherical pores. Many pores were concentrated near During the subsequent propagation process, the propagation rate was significantly higher (1) the additive or organic impurities remaining in the Cu bar; (2) the poor wettability of Defects were inevitable for solder joints [11]. As shown in Figure 2, there were many loading direction. Figure 12a showed the stress distribution around the two flake cracks. Obviously, the stress concentration in region Q1 was greater than that in region Q2. More- the stress distribution. As shown in Figure 2, the pore distribution of the Cu/SAC305/Cu solder joint was very complex. However, only a few very small spherical pores and two reconstructed solder joints, and most of these pores were mutually separated. Generally, Defect volume ratio 4.11% 4.59% 8.31% imental results shown in Figure 8b. Figure 11b showed the simulation results for the crack Figure 11 showed the simulation results for the fracture surface and crack growth. the rate of cracks were closely related to the distribution of the internal defects of the sol- As shown in Figure 11a, the fracture morphology was divided into four zones: Q1, Q2, lation results was verified as shown in Figure 8c. In summary, the propagation path and to the loading direction during the continuous tensile process. The reliability of the simu- that the crack was first initiated and propagated from the defects in regions Q1 and Q2. propagation process under different displacement loading conditions, which revealed Table 2. Evolution of total internal defects under different deformation states. Strain State 0.00% 2.77% 13.46% der joints, as discussed in detail in Section 4.1. However, the crack in region Q2 was propagated faster along the direction perpendicular and Q3 were tensile fracture zones, and S4 was a shear fracture zone, similar to the exper- Figure 11 showed the simulation results for the fracture surface and crack growth. As shown in Figure 11a, the fracture morphology was divided into four zones: Q1, Q2, and Q3 were tensile fracture zones, and S4 was a shear fracture zone, similar to the experimental results shown in Figure 8b. Figure 11b showed the simulation results for the crack propagation process under different displacement loading conditions, which revealed that the crack was ﬁrst initiated and propagated from the defects in regions Q1 and Q2. However, the crack in region Q2 was propagated faster along the direction perpendicular to the loading direction during the continuous tensile process. The reliability of the simulation results was veriﬁed as shown in Figure 8c. In summary, the propagation path and the rate of cracks were closely related to the distribution of the internal defects of the solder joints, as discussed in detail in Section 4.1.\n",
      "\n",
      "\n",
      "==============================\n",
      "\n",
      "\n",
      "To quantitatively describe the evolution of the internal pores during the tensile process of the Cu/SAC305/Cu solder joints, the defects in three regions (Q1, Q2, and Q3), respec- tively, were extracted as shown in Figure 9. In the Q1 region, two ﬂake defects mainly existed, and were marked as A and B, respectively. Defect A was connected to the outer surface, and defect B was an internal defect. At the initial state, the two defects in region Q1 were separated. When the deformation reached 2.77%, defects A and B connected. When the deformation was 13.46%, the thickness and volume of the defect signiﬁcantly increased. Region Q2 was an aggregated pore defect close to the IMC layer. The pores partially connected in the soldering process. As the strain increased to 2.77%, the pores continued to spread forward and “swallowed” a small pore (C). When the strain reached 13.46%, the crack propagated further, and the propagation direction was perpendicular to the loading. Region Q3 consisted of aggregated spherical pores near the IMC layer. However, it could be seen that these pores were not connected and remained in a separated state. When the strain reached 2.77%, the spherical pores grew, but an obvious connection phenomenon did not exist. When the strain increased to 13.46%, some spherical pores began to connect and aggregate. the crack propagation and final fracture zone (II) was greater than that in the deformation Figure 9. Evolution of 3D defects as strain increased in three regions of solder joints. The volume and shape evolution of the internal defects were quantitatively charac-terized. Generally, the shape characteristics of the defects were characterized by the sphe- 3.4. Evolution Process of Defects by In situ X-ray μ-CT To quantitatively describe the evolution of the internal pores during the tensile pro-cess of the Cu/SAC305/Cu solder joints, the defects in three regions (Q1, Q2, and Q3), re-spectively, were extracted as shown in Figure 9. In the Q1 region, two flake defects mainly existed, and were marked as A and B, respectively. Defect A was connected to the outer surface, and defect B was an internal defect. At the initial state, the two defects in region Q1 were separated. When the deformation reached 2.77%, defects A and B connected. When the deformation was 13.46%, the thickness and volume of the defect significantly increased. Region Q2 was an aggregated pore defect close to the IMC layer. The pores partially connected in the soldering process. As the strain increased to 2.77%, the pores continued to spread forward and “swallowed” a small pore (C). When the strain reached 13.46%, the crack propagated further, and the propagation direction was perpendicular to the loading. Region Q3 consisted of aggregated spherical pores near the IMC layer. How-ever, it could be seen that these pores were not connected and remained in a separated state. When the strain reached 2.77%, the spherical pores grew, but an obvious connection phenomenon did not exist. When the strain increased to 13.46%, some spherical pores began to connect and aggregate. the volume of the defect, and the defective surface [32]. Figure 10 showed the sphericities of the defects in the solder joint under different strain conditions. As could be seen, the average sphericity decreased as the deformation increased, which indicated that the defect shape was changing. The variation of the normalized dispersions (variable coefficient) in ricity parameters, that is, the ratio between the spherical surface, which was the same as Figure 9. Evolution of 3D defects as strain increased in three regions of solder joints. The volume and shape evolution of the internal defects were quantitatively character- ized. Generally, the shape characteristics of the defects were characterized by the sphericity parameters, that is, the ratio between the spherical surface, which was the same as the volume of the defect, and the defective surface [32]. Figure 10 showed the sphericities of the defects in the solder joint under different strain conditions. As could be seen, the average sphericity decreased as the deformation increased, which indicated that the defect shape was changing. The variation of the normalized dispersions (variable coefﬁcient) in the crack propagation and ﬁnal fracture zone (II) was greater than that in the deformation\n",
      "\n",
      "\n",
      "==============================\n",
      "\n",
      "\n",
      "tively. According to the characteristics of the fracture morphology, it can be determined complex, and included the fracture surface of two IMC layers and the solder material it- surface was perpendicular to the loading axis. They corresponded to the Q1, Q2, and Q3 regions in Figure 8b,c, respectively. However, since the fracture surfaces of Q1–Q3 in Fig-ure 7 were not on the same plane, the S4 fracture surface was formed due to the shear deformation. Obviously, there were significant differences between the tensile fracture Figure 8a showed the 3D CT reconstruction morphology of the solder joints after the fractures. As could be seen, the final fracture morphology of the solder joint was relatively self. Figure 8b,c showed the fracture morphology of the lower and upper parts, respec- that a tensile fracture occurred in the Q1, Q2, and Q3 regions in Figure 7, and the fracture defect in the upper right corner of the Q2 region was torn. However, there was no obvious Figure 6. Engineering stress–strain curve of Cu/SAC305/Cu solder joint obtained by in situ tensile test. Positions 1, 2 and 3 represented the suspending points, and 4 represented the fracture point. 3.3. Fracture Process and Fracture Morphology along the IMC layer to the middle of the solder joint. Under continuous tension, the solder joint finally broke. Figure 7 showed the 3D defect evolution of the solder joints during the tensile process mation mechanism of the two types of defects was explained in detail in Section 4.1. The in the Q1 region penetrated longitudinally and connected with various spherical pores in reached 2.77%, the flakes at the Q1 region opened and propagated forward. A spherical at room temperature. The upper and lower boundary layers were the IMC layers con- shown in Figure 7a. As could be seen, a flake defect existed in the middle Q1 region. More- spherical pores in the Q2 region were connected at the upper IMC. When the deformation the Q3 region. The defects in the Q2 region formed cracks, which propagated forward over, many pores were produced in the Q2 and Q3 regions near the IMC layer. The for- change in the separated pores in the Q3 region. When the strain was 13.46%, the defects nected to the Cu bars. The microstructure of the internal defects at the initial state was Figure 8a showed the 3D CT reconstruction morphology of the solder joints after the fractures. As could be seen, the ﬁnal fracture morphology of the solder joint was relatively complex, and included the fracture surface of two IMC layers and the solder material itself. Figure 8b,c showed the fracture morphology of the lower and upper parts, respectively. According to the characteristics of the fracture morphology, it can be determined that a\n",
      "\n",
      "\n",
      "==============================\n",
      "\n",
      "\n",
      "tively. According to the characteristics of the fracture morphology, it can be determined complex, and included the fracture surface of two IMC layers and the solder material it- surface was perpendicular to the loading axis. They corresponded to the Q1, Q2, and Q3 regions in Figure 8b,c, respectively. However, since the fracture surfaces of Q1–Q3 in Fig-ure 7 were not on the same plane, the S4 fracture surface was formed due to the shear deformation. Obviously, there were significant differences between the tensile fracture Figure 8a showed the 3D CT reconstruction morphology of the solder joints after the fractures. As could be seen, the final fracture morphology of the solder joint was relatively self. Figure 8b,c showed the fracture morphology of the lower and upper parts, respec- that a tensile fracture occurred in the Q1, Q2, and Q3 regions in Figure 7, and the fracture defect in the upper right corner of the Q2 region was torn. However, there was no obvious Figure 6. Engineering stress–strain curve of Cu/SAC305/Cu solder joint obtained by in situ tensile test. Positions 1, 2 and 3 represented the suspending points, and 4 represented the fracture point. 3.3. Fracture Process and Fracture Morphology along the IMC layer to the middle of the solder joint. Under continuous tension, the solder joint finally broke. Figure 7 showed the 3D defect evolution of the solder joints during the tensile process mation mechanism of the two types of defects was explained in detail in Section 4.1. The in the Q1 region penetrated longitudinally and connected with various spherical pores in reached 2.77%, the flakes at the Q1 region opened and propagated forward. A spherical at room temperature. The upper and lower boundary layers were the IMC layers con- shown in Figure 7a. As could be seen, a flake defect existed in the middle Q1 region. More- spherical pores in the Q2 region were connected at the upper IMC. When the deformation the Q3 region. The defects in the Q2 region formed cracks, which propagated forward over, many pores were produced in the Q2 and Q3 regions near the IMC layer. The for- change in the separated pores in the Q3 region. When the strain was 13.46%, the defects nected to the Cu bars. The microstructure of the internal defects at the initial state was Figure 8a showed the 3D CT reconstruction morphology of the solder joints after the fractures. As could be seen, the ﬁnal fracture morphology of the solder joint was relatively complex, and included the fracture surface of two IMC layers and the solder material itself. Figure 8b,c showed the fracture morphology of the lower and upper parts, respectively. According to the characteristics of the fracture morphology, it can be determined that a\n",
      "\n",
      "\n",
      "==============================\n",
      "\n",
      "\n",
      "the crack tip in region Q2 did not; therefore, the cracks did not begin to propagate. How- of water and organic material remained on its surface. In addition, the flux was a volatile the IMCs. Moreover, there were a few pores that did not completely leave the solder. The the flux, remaining water, and organic material to evaporate, and then left the molten flakes existed inside the solder. The flake in region Q1 was perpendicular to the loading ation and propagation for solder joints. 4. Discussion 4.1. Defects Affecting Crack Initiation and Propagation over, when the crack tip stress of the flake crack in region Q1 reached the fracture strength, it was considered that the main causes of the internal defects of solder joints are as follows: ever, the aggregated pores in region Q2 around the IMC layer cracked during loading. axis, while the flake in region Q2 was inside the solder and approximately parallel to the material [10]. Therefore, during the reflow soldering process, a high temperature caused after the surface of the Cu bars was cleaned by solution for cleaning PCB, a small amount solder alloy. However, some gases were not discharged, which resulted in some gases shrinkage pores and flakes might form near the solder surface after the solder solidifies, similar to the crack in the Q1 region in Figure 7a [10]. The position and shape of defects in the solder joints had a significant influence on the solder; and (3) the exhaust of the solder and flux during reflow [18,44]. In this study, remaining in the solder joints to form spherical pores. Many pores were concentrated near During the subsequent propagation process, the propagation rate was significantly higher (1) the additive or organic impurities remaining in the Cu bar; (2) the poor wettability of Defects were inevitable for solder joints [11]. As shown in Figure 2, there were many loading direction. Figure 12a showed the stress distribution around the two flake cracks. Obviously, the stress concentration in region Q1 was greater than that in region Q2. More- the stress distribution. As shown in Figure 2, the pore distribution of the Cu/SAC305/Cu solder joint was very complex. However, only a few very small spherical pores and two reconstructed solder joints, and most of these pores were mutually separated. Generally, Defect volume ratio 4.11% 4.59% 8.31% imental results shown in Figure 8b. Figure 11b showed the simulation results for the crack Figure 11 showed the simulation results for the fracture surface and crack growth. the rate of cracks were closely related to the distribution of the internal defects of the sol- As shown in Figure 11a, the fracture morphology was divided into four zones: Q1, Q2, lation results was verified as shown in Figure 8c. In summary, the propagation path and to the loading direction during the continuous tensile process. The reliability of the simu- that the crack was first initiated and propagated from the defects in regions Q1 and Q2. propagation process under different displacement loading conditions, which revealed Table 2. Evolution of total internal defects under different deformation states. Strain State 0.00% 2.77% 13.46% der joints, as discussed in detail in Section 4.1. However, the crack in region Q2 was propagated faster along the direction perpendicular and Q3 were tensile fracture zones, and S4 was a shear fracture zone, similar to the exper- Figure 11 showed the simulation results for the fracture surface and crack growth. As shown in Figure 11a, the fracture morphology was divided into four zones: Q1, Q2, and Q3 were tensile fracture zones, and S4 was a shear fracture zone, similar to the experimental results shown in Figure 8b. Figure 11b showed the simulation results for the crack propagation process under different displacement loading conditions, which revealed that the crack was ﬁrst initiated and propagated from the defects in regions Q1 and Q2. However, the crack in region Q2 was propagated faster along the direction perpendicular to the loading direction during the continuous tensile process. The reliability of the simulation results was veriﬁed as shown in Figure 8c. In summary, the propagation path and the rate of cracks were closely related to the distribution of the internal defects of the solder joints, as discussed in detail in Section 4.1.\n",
      "\n",
      "\n",
      "==============================\n",
      "\n",
      "\n",
      "To quantitatively describe the evolution of the internal pores during the tensile process of the Cu/SAC305/Cu solder joints, the defects in three regions (Q1, Q2, and Q3), respec- tively, were extracted as shown in Figure 9. In the Q1 region, two ﬂake defects mainly existed, and were marked as A and B, respectively. Defect A was connected to the outer surface, and defect B was an internal defect. At the initial state, the two defects in region Q1 were separated. When the deformation reached 2.77%, defects A and B connected. When the deformation was 13.46%, the thickness and volume of the defect signiﬁcantly increased. Region Q2 was an aggregated pore defect close to the IMC layer. The pores partially connected in the soldering process. As the strain increased to 2.77%, the pores continued to spread forward and “swallowed” a small pore (C). When the strain reached 13.46%, the crack propagated further, and the propagation direction was perpendicular to the loading. Region Q3 consisted of aggregated spherical pores near the IMC layer. However, it could be seen that these pores were not connected and remained in a separated state. When the strain reached 2.77%, the spherical pores grew, but an obvious connection phenomenon did not exist. When the strain increased to 13.46%, some spherical pores began to connect and aggregate. the crack propagation and final fracture zone (II) was greater than that in the deformation Figure 9. Evolution of 3D defects as strain increased in three regions of solder joints. The volume and shape evolution of the internal defects were quantitatively charac-terized. Generally, the shape characteristics of the defects were characterized by the sphe- 3.4. Evolution Process of Defects by In situ X-ray μ-CT To quantitatively describe the evolution of the internal pores during the tensile pro-cess of the Cu/SAC305/Cu solder joints, the defects in three regions (Q1, Q2, and Q3), re-spectively, were extracted as shown in Figure 9. In the Q1 region, two flake defects mainly existed, and were marked as A and B, respectively. Defect A was connected to the outer surface, and defect B was an internal defect. At the initial state, the two defects in region Q1 were separated. When the deformation reached 2.77%, defects A and B connected. When the deformation was 13.46%, the thickness and volume of the defect significantly increased. Region Q2 was an aggregated pore defect close to the IMC layer. The pores partially connected in the soldering process. As the strain increased to 2.77%, the pores continued to spread forward and “swallowed” a small pore (C). When the strain reached 13.46%, the crack propagated further, and the propagation direction was perpendicular to the loading. Region Q3 consisted of aggregated spherical pores near the IMC layer. How-ever, it could be seen that these pores were not connected and remained in a separated state. When the strain reached 2.77%, the spherical pores grew, but an obvious connection phenomenon did not exist. When the strain increased to 13.46%, some spherical pores began to connect and aggregate. the volume of the defect, and the defective surface [32]. Figure 10 showed the sphericities of the defects in the solder joint under different strain conditions. As could be seen, the average sphericity decreased as the deformation increased, which indicated that the defect shape was changing. The variation of the normalized dispersions (variable coefficient) in ricity parameters, that is, the ratio between the spherical surface, which was the same as Figure 9. Evolution of 3D defects as strain increased in three regions of solder joints. The volume and shape evolution of the internal defects were quantitatively character- ized. Generally, the shape characteristics of the defects were characterized by the sphericity parameters, that is, the ratio between the spherical surface, which was the same as the volume of the defect, and the defective surface [32]. Figure 10 showed the sphericities of the defects in the solder joint under different strain conditions. As could be seen, the average sphericity decreased as the deformation increased, which indicated that the defect shape was changing. The variation of the normalized dispersions (variable coefﬁcient) in the crack propagation and ﬁnal fracture zone (II) was greater than that in the deformation\n",
      "\n",
      "\n",
      "==============================\n",
      "\n",
      "\n",
      "during the tensile process. Additionally, various microcracks were formed on the fracture Thus, from the component ratio, it could be determined that the prism particles are the and the Cu bar. Another reason was that a large concentration of stress existed on the were many microstructural characteristics besides the pore defect evolution in Figure 13c. Additionally, in the partially enlarged image in Figure 8b, it can be seen that there lower and upper IMC layers, owing to the aggregation of the pores. Additionally, inter- First, the component distribution in Figure 13c was characterized by EDS mapping. The distributions of Sn, Cu, and Ag elements in the fracture surface were shown in Figure 14a–c, respectively. In Figure 14a, some small and bright dots were relatively evenly distrib-uted in the whole area. However, the Cu element distribution in Figure 14b was not uni-form, and the positions of the bright spots were consistent with those of the prismatic particles in Figure 13c. In order to determine the material type of the particles, quantitative analysis was performed on the particles at point 1 in Figure 14b, as shown in Figure 14d. Cu5Sn6 phase, which proved that the fracture surfaces of regions Q2 and Q3 were IMC layers. Overall, the IMC layers were brittle, and had many pores around them, which was β-Sn matrix was inconsistent face debonding between the Cu6Sn5 particles and the β-Sn matrix was observed on the the main reason why the IMC layers became the weak link between the SAC305 solder surface owing to the large local stress caused by the inconsistent deformation. As men-tioned earlier, the fracture morphology of the S4 region was mainly the shear area, and the partial enlarged view is shown in Figure 13d. Since it mainly existed inside the SAC305 alloy, there were no prismatic particles. The shearing direction could be determined from the streamline in Figure 13d. Figure 13. Partially enlarged image: (a) Q1 region; (b) pores in Q3 region; (c) fracture surface of IMC layer in Q2 region; (d) S4 region. of the Cu6Sn5 phase was approximately three times equal to that of the β-Sn matrix. There- fracture surface, as shown in Figure 13c. Tang et al. [45] reported that the elastic modulus 13a showed an enlarged view of the flake surface in the Q1 region, and it could be seen the edges of pores without adjacent pores retained an arc-shaped tear pattern, as indicated the characteristic positions of different regions in Figure 8b were partially enlarged. Figure were some spherical pores with diameters ranging from tens of microns to more than one hundred microns, and the partially enlarged view was shown in Figure 13b. As could be in the IMC layers was almost converted into fracture energy. Therefore, the fracture area acteristics in different regions. To better explain the fracture mechanism of the solder joint, nal, and its specific shape characteristics were related to the distribution of the surround- seen, owing to the small space among the pores, the final fracture morphology had pores by the green arc line in Figure 13b. Additionally, the crack propagation path in the IMC tured and formed a linear tear pattern, as indicated by the red line in Figure 13b. However, nism of flakes in the Q1 region was effectively demonstrated. In regions Q2 and Q3, there and propagation rate of the IMC layers were much larger compared to those in region Q1. As shown in Figure 8 of Section 3.3, the fracture morphology exhibited different char- 13b. Additionally, it was found that the tearing morphology of a single pore was polygo- ing pores. Under tensile stress, the pore spaces were continuously necked, owing to a large layer was perpendicular to the direction of the loading axis, and was a Mode I crack, as that the smooth surface implies recrystallization characteristics. The formation mecha- plastic deformation. When the stress exceeded the fracture strength, the solder alloy frac- deformation of the SAC305 alloy consumed a lot of the external work, owing to the great with partial edges that were characterized by tearing, as shown in the red box in Figure toughness [12]. However, the IMC layer was brittle, which meant that the external work longer than that of the crack in region Q1. The main reason for this was that the plastic shown in Figure 7c. When the strain reached 13.46%, its propagation path length was Figure 13. Partially enlarged image: (a) Q1 region; (b) pores in Q3 region; (c) fracture surface of IMC layer in Q2 region; (d) S4 region. Additionally, in the partially enlarged image in Figure 8b, it can be seen that there were many microstructural characteristics besides the pore defect evolution in Figure 13c. First, the component distribution in Figure 13c was characterized by EDS mapping. The distributions of Sn, Cu, and Ag elements in the fracture surface were shown in Figure 14a–c, respectively. In Figure 14a, some small and bright dots were relatively evenly distributed in the whole area. However, the Cu element distribution in Figure 14b was not uniform, and the positions of the bright spots were consistent with those of the prismatic particles in Figure 13c. In order to determine the material type of the particles, quantitative analysis was performed on the particles at point 1 in Figure 14b, as shown in Figure 14d. Thus, from the component ratio, it could be determined that the prism particles are the Cu5Sn6 phase, which proved that the fracture surfaces of regions Q2 and Q3 were IMC layers. Overall, the IMC layers were brittle, and had many pores around them, which was the main reason why the IMC layers became the weak link between the SAC305 solder and the Cu bar. Another reason was that a large concentration of stress existed on the lower and upper IMC\n",
      "\n",
      "\n",
      "==============================\n",
      "\n",
      "\n"
     ]
    }
   ],
   "source": [
    "for pg in result_df_page:\n",
    "    print(pg)\n",
    "    print(\"\\n\\n==============================\\n\\n\")"
   ]
  },
  {
   "cell_type": "code",
   "execution_count": null,
   "id": "1bf9be82",
   "metadata": {},
   "outputs": [],
   "source": []
  }
 ],
 "metadata": {
  "kernelspec": {
   "display_name": "Python 3 (ipykernel)",
   "language": "python",
   "name": "python3"
  },
  "language_info": {
   "codemirror_mode": {
    "name": "ipython",
    "version": 3
   },
   "file_extension": ".py",
   "mimetype": "text/x-python",
   "name": "python",
   "nbconvert_exporter": "python",
   "pygments_lexer": "ipython3",
   "version": "3.11.4"
  }
 },
 "nbformat": 4,
 "nbformat_minor": 5
}
