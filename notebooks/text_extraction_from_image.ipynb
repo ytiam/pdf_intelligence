{
 "cells": [
  {
   "cell_type": "code",
   "execution_count": 1,
   "id": "3bd4d104",
   "metadata": {},
   "outputs": [],
   "source": [
    "from nltk.tokenize import sent_tokenize\n",
    "import pandas as pd\n",
    "from typing import Union\n",
    "import pdfplumber\n",
    "import fitz\n",
    "import glob, sys\n",
    "import os\n",
    "from glob import glob\n",
    "import re\n",
    "from collections import OrderedDict\n",
    "import requests\n",
    "import pickle\n",
    "from PIL import Image"
   ]
  },
  {
   "cell_type": "code",
   "execution_count": 38,
   "id": "d5ec8fbe",
   "metadata": {},
   "outputs": [],
   "source": []
  },
  {
   "cell_type": "code",
   "execution_count": null,
   "id": "958bb574",
   "metadata": {},
   "outputs": [],
   "source": []
  },
  {
   "cell_type": "code",
   "execution_count": 12,
   "id": "5d917a05",
   "metadata": {},
   "outputs": [],
   "source": [
    "from spire.pdf.common import *\n",
    "from spire.pdf import *\n",
    "class images_from_pdf_utils():\n",
    "    \n",
    "    def __init__(self, pdf_path):\n",
    "        self.pdf_path = pdf_path\n",
    "        self.doc = PdfDocument()\n",
    "        self.doc.LoadFromFile(self.pdf_path)\n",
    "        \n",
    "    def get_image_list_per_page(self, pg_no: int, image_save_path: str = None):\n",
    "        pg_ = self.doc.Pages[pg_no]\n",
    "        \n",
    "        if image_save_path is not None:\n",
    "            image_path = image_save_path\n",
    "        else:\n",
    "            image_path = os.path.dirname(os.path.abspath(self.pdf_path))+'/out/images_in_pages/'\n",
    "            \n",
    "        fold = os.path.basename(self.pdf_path).replace('.pdf','')\n",
    "        \n",
    "        self.fold_path = os.path.join(image_path, fold)\n",
    "        \n",
    "        if not os.path.exists(self.fold_path):\n",
    "            os.makedirs(self.fold_path)\n",
    "            \n",
    "        images = []\n",
    "        for image in pg_.ExtractImages():\n",
    "            images.append(image)\n",
    "        \n",
    "        for index, image in enumerate(images):\n",
    "            imageFileName = f'{self.fold_path}/pg_{pg_no}_img_{index}.png'\n",
    "            image.Save(imageFileName, ImageFormat.get_Png())\n",
    "        #self.doc.Close()\n",
    "            \n",
    "    def get_images(self, image_save_path: str = None):\n",
    "        for pg in range(len(self.doc.Pages)):\n",
    "            self.get_image_list_per_page(pg_no = pg, image_save_path = image_save_path)\n",
    "        print(f\"All Extracted Images from this PDF are saved at {self.fold_path}/\")\n",
    "        self.doc.Close()"
   ]
  },
  {
   "cell_type": "code",
   "execution_count": 27,
   "id": "2068ab7c",
   "metadata": {},
   "outputs": [],
   "source": [
    "dir_ = \"../data/genai_poc/raw/AI_POC_47Papers_Nov06_SMTA/\"\n",
    "pdfs = [i for i in os.listdir(dir_) if i.endswith('.pdf')]"
   ]
  },
  {
   "cell_type": "code",
   "execution_count": 29,
   "id": "2b11c6dd",
   "metadata": {},
   "outputs": [
    {
     "name": "stdout",
     "output_type": "stream",
     "text": [
      "All Extracted Images from this PDF are saved at /home/data/genai_poc/raw/AI_POC_47Papers_Nov06_SMTA/out/images_in_pages/EFFECT OF REFLOW TIME ON WETTING BEHAVIOUR, INTERFACIAL REACTION/\n",
      "All Extracted Images from this PDF are saved at /home/data/genai_poc/raw/AI_POC_47Papers_Nov06_SMTA/out/images_in_pages/Predicting the Saturation of Solder Joint Cycles to Failure with Thermal Cycling Dwell Times/\n",
      "All Extracted Images from this PDF are saved at /home/data/genai_poc/raw/AI_POC_47Papers_Nov06_SMTA/out/images_in_pages/Qualitative Model Describing Hot Tear Above VIPPO and Numerous Other Design Elements/\n",
      "All Extracted Images from this PDF are saved at /home/data/genai_poc/raw/AI_POC_47Papers_Nov06_SMTA/out/images_in_pages/Edge Bonding as Viable Reinforcement for Solder Joints in High Reliability Applications/\n",
      "All Extracted Images from this PDF are saved at /home/data/genai_poc/raw/AI_POC_47Papers_Nov06_SMTA/out/images_in_pages/Control Of Spalling in SAC Pb-Free Solder Alloys When Used with a Ni Substrate/\n",
      "All Extracted Images from this PDF are saved at /home/data/genai_poc/raw/AI_POC_47Papers_Nov06_SMTA/out/images_in_pages/Identifying Causes of Wire Bond Pad Metal Lift-Off Failures in ENEPIG Deposits/\n",
      "All Extracted Images from this PDF are saved at /home/data/genai_poc/raw/AI_POC_47Papers_Nov06_SMTA/out/images_in_pages/Solder Joint Separation During Second Reflow Induced by VIPPO Structures Mechanism and Modeling Methodology Study/\n",
      "All Extracted Images from this PDF are saved at /home/data/genai_poc/raw/AI_POC_47Papers_Nov06_SMTA/out/images_in_pages/SOLDER BALL JOINT RELIABILITY WITH ELECTROLESS NIPDAU PLATING/\n",
      "All Extracted Images from this PDF are saved at /home/data/genai_poc/raw/AI_POC_47Papers_Nov06_SMTA/out/images_in_pages/Comparing Optimizing Actual Solder Fatigue Life/\n",
      "All Extracted Images from this PDF are saved at /home/data/genai_poc/raw/AI_POC_47Papers_Nov06_SMTA/out/images_in_pages/Thermal Shock Testing of High-Reliability Solder Alloys/\n",
      "All Extracted Images from this PDF are saved at /home/data/genai_poc/raw/AI_POC_47Papers_Nov06_SMTA/out/images_in_pages/MECHANICAL FAILURES IN PB-FREE PROCESSING EVALUATING THE EFFECT OF PAD CRATER DEFECTS ON PROCESS STRAIN LIMITS FOR BGA DEVICES/\n",
      "All Extracted Images from this PDF are saved at /home/data/genai_poc/raw/AI_POC_47Papers_Nov06_SMTA/out/images_in_pages/Reliability Of Mixed Alloy Ball Grid Arrays Under Thermal Fatigue And Drop Shock Test/\n",
      "All Extracted Images from this PDF are saved at /home/data/genai_poc/raw/AI_POC_47Papers_Nov06_SMTA/out/images_in_pages/Thermal Fatigue of Quad Flat No-Lead and Chip Resistor Solder Joints Assembled with SnPb, SAC305, and SnBi Solders/\n",
      "All Extracted Images from this PDF are saved at /home/data/genai_poc/raw/AI_POC_47Papers_Nov06_SMTA/out/images_in_pages/An Empirical Correlation to Estimate Solder Joint Reliability Acceleration Factors/\n",
      "All Extracted Images from this PDF are saved at /home/data/genai_poc/raw/AI_POC_47Papers_Nov06_SMTA/out/images_in_pages/High-Cycle Fatigue Test Development to Assess Pb-free Solder Joints/\n",
      "All Extracted Images from this PDF are saved at /home/data/genai_poc/raw/AI_POC_47Papers_Nov06_SMTA/out/images_in_pages/Reliability of Different Solder Joint Alloys in Thermal Cycling and Drop Shock Tests/\n",
      "All Extracted Images from this PDF are saved at /home/data/genai_poc/raw/AI_POC_47Papers_Nov06_SMTA/out/images_in_pages/INVESTIGATION OF SOLDER JOINT RELIABILITY/\n",
      "All Extracted Images from this PDF are saved at /home/data/genai_poc/raw/AI_POC_47Papers_Nov06_SMTA/out/images_in_pages/Electronic Hardware in Space - Failure Avoidance is Critical to Missions Success/\n",
      "All Extracted Images from this PDF are saved at /home/data/genai_poc/raw/AI_POC_47Papers_Nov06_SMTA/out/images_in_pages/Propensity for FCBGA Chip-UF and Substrate-UF Interface Delamination under Monotonic and Fatigue Loads in Automotive Environments/\n",
      "All Extracted Images from this PDF are saved at /home/data/genai_poc/raw/AI_POC_47Papers_Nov06_SMTA/out/images_in_pages/Via-In-Pad Plated Over (VIPPO) Design Considerations for the Mitigation of Unique Solder Separation Failure Mode/\n",
      "All Extracted Images from this PDF are saved at /home/data/genai_poc/raw/AI_POC_47Papers_Nov06_SMTA/out/images_in_pages/Isothermal Fatigue of High Temperature Solder Joints/\n",
      "All Extracted Images from this PDF are saved at /home/data/genai_poc/raw/AI_POC_47Papers_Nov06_SMTA/out/images_in_pages/EFFECT OF PROCESS VARIATIONS ON SOLDER JOINT RELIABILITY FOR NICKEL-BASED SURFACE FINISHES/\n",
      "All Extracted Images from this PDF are saved at /home/data/genai_poc/raw/AI_POC_47Papers_Nov06_SMTA/out/images_in_pages/Effect of Voids on Thermo-Mechanical Reliability of Solder Joints/\n",
      "All Extracted Images from this PDF are saved at /home/data/genai_poc/raw/AI_POC_47Papers_Nov06_SMTA/out/images_in_pages/Influence of Surface Finishes and Solder Alloys on Solder Ball Joint Reliability/\n",
      "All Extracted Images from this PDF are saved at /home/data/genai_poc/raw/AI_POC_47Papers_Nov06_SMTA/out/images_in_pages/A NICKEL-PALLADIUM-GOLD IC LEAD FINISH AND THE POTENTIAL/\n",
      "All Extracted Images from this PDF are saved at /home/data/genai_poc/raw/AI_POC_47Papers_Nov06_SMTA/out/images_in_pages/CRACK GROWTH RATE MEASUREMENT AND ANALYSIS FOR WLCSP Sn-Ag-Cu SOLDER JOINTS/\n",
      "All Extracted Images from this PDF are saved at /home/data/genai_poc/raw/AI_POC_47Papers_Nov06_SMTA/out/images_in_pages/PROCESS CAPABILITY, WETTING BEHAVIOR AND TEMPERATURE DEPENDENT SHEAR STRENGTH OF ALTERNATIVE LEAD FREE SOLDER JOINTS/\n",
      "All Extracted Images from this PDF are saved at /home/data/genai_poc/raw/AI_POC_47Papers_Nov06_SMTA/out/images_in_pages/High-Reliability Lead-free Solder for Electronics in Automotive Applications/\n",
      "All Extracted Images from this PDF are saved at /home/data/genai_poc/raw/AI_POC_47Papers_Nov06_SMTA/out/images_in_pages/Thermal Fatigue Reliability of a 1206 Chip Resistor with High-Performance Pb-Free Solder Alloys/\n",
      "All Extracted Images from this PDF are saved at /home/data/genai_poc/raw/AI_POC_47Papers_Nov06_SMTA/out/images_in_pages/The Thermal Cycling Performance of Hybrid Low Temperature Solder Joints Assembled at Different Peak Reflow Temperatures/\n",
      "All Extracted Images from this PDF are saved at /home/data/genai_poc/raw/AI_POC_47Papers_Nov06_SMTA/out/images_in_pages/EFFECT OF ISOTHERMAL PRECONDITIONING ON THERMAL/\n",
      "All Extracted Images from this PDF are saved at /home/data/genai_poc/raw/AI_POC_47Papers_Nov06_SMTA/out/images_in_pages/The Impact of the Gold Layer Thickness on Layer Properties, Reliability and Solder Wetting Performance of an ENIG Finish/\n",
      "All Extracted Images from this PDF are saved at /home/data/genai_poc/raw/AI_POC_47Papers_Nov06_SMTA/out/images_in_pages/Influence of a New Abnormal CuNi6Sn5 NiCu3Sn4 Layer Growth at Temperatures Above 175C in Tin Silver Based Lead-Free Solder Joints/\n",
      "All Extracted Images from this PDF are saved at /home/data/genai_poc/raw/AI_POC_47Papers_Nov06_SMTA/out/images_in_pages/Gold Embrittlement in Leadfree Solder/\n",
      "All Extracted Images from this PDF are saved at /home/data/genai_poc/raw/AI_POC_47Papers_Nov06_SMTA/out/images_in_pages/Solder-Joint Reliability of a 0.65mm Pitch Molded Array Package for Automotive Applications/\n",
      "All Extracted Images from this PDF are saved at /home/data/genai_poc/raw/AI_POC_47Papers_Nov06_SMTA/out/images_in_pages/FAILURE MECHANISM OF SAC 305 AND SAC 405 IN HARSH ENVIRONMENTS AND INFLUENCE OF BOARD DEFECTS INCLUDING BLACK PAD/\n",
      "All Extracted Images from this PDF are saved at /home/data/genai_poc/raw/AI_POC_47Papers_Nov06_SMTA/out/images_in_pages/Characterization of Soldered Plated Through Holes (PTHs) and Gold Embrittlement Conditions/\n",
      "All Extracted Images from this PDF are saved at /home/data/genai_poc/raw/AI_POC_47Papers_Nov06_SMTA/out/images_in_pages/Reliability Degradation of SAC105 and SAC305 BGA Packages Under Long-Term, High Temperature Aging/\n",
      "All Extracted Images from this PDF are saved at /home/data/genai_poc/raw/AI_POC_47Papers_Nov06_SMTA/out/images_in_pages/Component and Printed Wiring Board Finish Effects on QFN Solder Joint Formation/\n"
     ]
    }
   ],
   "source": [
    "for pdf in pdfs:\n",
    "    pdf_path = os.path.join(dir_, pdf)\n",
    "    img_extraction_module = images_from_pdf_utils(pdf_path)\n",
    "    img_extraction_module.get_images()"
   ]
  },
  {
   "cell_type": "code",
   "execution_count": null,
   "id": "23eb54d7",
   "metadata": {},
   "outputs": [],
   "source": []
  }
 ],
 "metadata": {
  "kernelspec": {
   "display_name": "Python 3 (ipykernel)",
   "language": "python",
   "name": "python3"
  },
  "language_info": {
   "codemirror_mode": {
    "name": "ipython",
    "version": 3
   },
   "file_extension": ".py",
   "mimetype": "text/x-python",
   "name": "python",
   "nbconvert_exporter": "python",
   "pygments_lexer": "ipython3",
   "version": "3.11.4"
  }
 },
 "nbformat": 4,
 "nbformat_minor": 5
}
