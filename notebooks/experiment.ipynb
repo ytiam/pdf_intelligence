{
 "cells": [
  {
   "cell_type": "code",
   "execution_count": 1,
   "id": "1a5f8e98-a8f8-4cb7-8f0f-05b0d3064d9a",
   "metadata": {},
   "outputs": [
    {
     "name": "stderr",
     "output_type": "stream",
     "text": [
      "2023-09-12 07:57:09.649184: I tensorflow/core/platform/cpu_feature_guard.cc:182] This TensorFlow binary is optimized to use available CPU instructions in performance-critical operations.\n",
      "To enable the following instructions: AVX2 AVX512F FMA, in other operations, rebuild TensorFlow with the appropriate compiler flags.\n",
      "2023-09-12 07:57:10.741121: W tensorflow/compiler/tf2tensorrt/utils/py_utils.cc:38] TF-TRT Warning: Could not find TensorRT\n",
      "[nltk_data] Downloading package stopwords to nltk_data...\n",
      "[nltk_data]   Package stopwords is already up-to-date!\n"
     ]
    }
   ],
   "source": [
    "import sys\n",
    "sys.path.append(\"../lib/\")\n",
    "import base64\n",
    "import pandas as pd\n",
    "from dataiku_utils import *\n",
    "from galaxy_utils import *\n",
    "from dataloader_utils import *\n",
    "# Used to create the dense document vectors.\n",
    "from sentence_transformers import SentenceTransformer\n",
    "import faiss\n",
    "# Used to create and store the Faiss index.\n",
    "import numpy as np\n",
    "import pickle\n",
    "from pathlib import Path\n",
    "import os\n",
    "import string\n",
    "from flask import request,send_file\n",
    "import pytesseract\n",
    "from pdf2image import convert_from_path\n",
    "from pdf2image import convert_from_bytes\n",
    "import io\n",
    "import gc\n",
    "import spacy\n",
    "import cv2\n",
    "nlp = spacy.load('en_core_web_sm')\n",
    "import nltk\n",
    "# nltk.download('punkt')"
   ]
  },
  {
   "cell_type": "code",
   "execution_count": 2,
   "id": "a082291d-959b-42fa-b23d-54d73b26dec3",
   "metadata": {},
   "outputs": [],
   "source": [
    "# conclusion_uploaded_pdf.py --> process_image_conversion_pdf "
   ]
  },
  {
   "cell_type": "code",
   "execution_count": 3,
   "id": "2eacd3ba-00e3-4bbe-a12d-951eb02b4f2a",
   "metadata": {},
   "outputs": [],
   "source": []
  },
  {
   "cell_type": "code",
   "execution_count": 2,
   "id": "52fbb918-88a7-4241-b002-caa585f4b7ff",
   "metadata": {},
   "outputs": [],
   "source": [
    "df, index, id_mapping_df, word_list, fold_files_df, file_type_mapping, conclusion_df, model, zendesk_df = load_data_and_model_files_v2()"
   ]
  },
  {
   "cell_type": "code",
   "execution_count": 3,
   "id": "94da0e3f-2a3c-43ab-b8f9-d76d4c24f418",
   "metadata": {},
   "outputs": [
    {
     "ename": "TypeError",
     "evalue": "search() missing 3 required positional arguments: 'x', 'distances', and 'labels'",
     "output_type": "error",
     "traceback": [
      "\u001b[0;31m---------------------------------------------------------------------------\u001b[0m",
      "\u001b[0;31mTypeError\u001b[0m                                 Traceback (most recent call last)",
      "Cell \u001b[0;32mIn[3], line 15\u001b[0m\n\u001b[1;32m     12\u001b[0m     max_res \u001b[38;5;241m=\u001b[39m \u001b[38;5;241m500\u001b[39m\n\u001b[1;32m     14\u001b[0m query \u001b[38;5;241m=\u001b[39m query\u001b[38;5;241m.\u001b[39mlower()\n\u001b[0;32m---> 15\u001b[0m result_dict \u001b[38;5;241m=\u001b[39m \u001b[43msearch_query_w_wildcard_v9\u001b[49m\u001b[43m(\u001b[49m\u001b[43mquery\u001b[49m\u001b[43m \u001b[49m\u001b[43m,\u001b[49m\u001b[43m \u001b[49m\u001b[43mdf\u001b[49m\u001b[43m,\u001b[49m\u001b[43m \u001b[49m\u001b[43mcolumn\u001b[49m\u001b[43m \u001b[49m\u001b[38;5;241;43m=\u001b[39;49m\u001b[43m \u001b[49m\u001b[43m[\u001b[49m\u001b[38;5;124;43m'\u001b[39;49m\u001b[38;5;124;43mdoc_id\u001b[39;49m\u001b[38;5;124;43m'\u001b[39;49m\u001b[43m,\u001b[49m\u001b[38;5;124;43m'\u001b[39;49m\u001b[38;5;124;43mid\u001b[39;49m\u001b[38;5;124;43m'\u001b[39;49m\u001b[43m,\u001b[49m\u001b[38;5;124;43m'\u001b[39;49m\u001b[38;5;124;43msent_id\u001b[39;49m\u001b[38;5;124;43m'\u001b[39;49m\u001b[43m,\u001b[49m\u001b[38;5;124;43m'\u001b[39;49m\u001b[38;5;124;43msentences\u001b[39;49m\u001b[38;5;124;43m'\u001b[39;49m\u001b[43m]\u001b[49m\u001b[43m,\u001b[49m\u001b[43m \u001b[49m\u001b[43mnum_results\u001b[49m\u001b[38;5;241;43m=\u001b[39;49m\u001b[38;5;28;43mint\u001b[39;49m\u001b[43m(\u001b[49m\u001b[43mmax_res\u001b[49m\u001b[43m)\u001b[49m\u001b[43m,\u001b[49m\u001b[43m \u001b[49m\u001b[43mindex\u001b[49m\u001b[38;5;241;43m=\u001b[39;49m\u001b[43mindex\u001b[49m\u001b[43m,\u001b[49m\u001b[43m \u001b[49m\u001b[43mmodel\u001b[49m\u001b[38;5;241;43m=\u001b[39;49m\u001b[43mmodel\u001b[49m\u001b[43m,\u001b[49m\n\u001b[1;32m     16\u001b[0m \u001b[43mid_mapping\u001b[49m\u001b[38;5;241;43m=\u001b[39;49m\u001b[43mid_mapping_df\u001b[49m\u001b[43m,\u001b[49m\u001b[43m \u001b[49m\u001b[43mword_list\u001b[49m\u001b[38;5;241;43m=\u001b[39;49m\u001b[43mword_list\u001b[49m\u001b[43m,\u001b[49m\u001b[43m \u001b[49m\u001b[43mfold_files_mapping_df\u001b[49m\u001b[38;5;241;43m=\u001b[39;49m\u001b[43mfold_files_df\u001b[49m\u001b[43m,\u001b[49m\u001b[43m \u001b[49m\u001b[43mfile_type\u001b[49m\u001b[38;5;241;43m=\u001b[39;49m\u001b[43mfile_type_mapping\u001b[49m\u001b[43m,\u001b[49m\n\u001b[1;32m     17\u001b[0m \u001b[43mconclusion_data\u001b[49m\u001b[38;5;241;43m=\u001b[39;49m\u001b[43mconclusion_df\u001b[49m\u001b[43m,\u001b[49m\u001b[43m \u001b[49m\u001b[43msearch_criteria\u001b[49m\u001b[38;5;241;43m=\u001b[39;49m\u001b[43msearch_criteria\u001b[49m\u001b[43m,\u001b[49m\u001b[43m \u001b[49m\u001b[43mzendesk_df\u001b[49m\u001b[43m \u001b[49m\u001b[38;5;241;43m=\u001b[39;49m\u001b[43m \u001b[49m\u001b[43mzendesk_df\u001b[49m\u001b[43m)\u001b[49m\n",
      "File \u001b[0;32m/home/notebooks/../lib/galaxy_utils.py:498\u001b[0m, in \u001b[0;36msearch_query_w_wildcard_v9\u001b[0;34m(query, df, column, num_results, index, model, id_mapping, word_list, **kwargs)\u001b[0m\n\u001b[1;32m    496\u001b[0m \u001b[38;5;28;01mfor\u001b[39;00m i, qr \u001b[38;5;129;01min\u001b[39;00m \u001b[38;5;28menumerate\u001b[39m(query_list):\n\u001b[1;32m    497\u001b[0m     query_set \u001b[38;5;241m=\u001b[39m wildcard_query_builder_v2(qr, word_list\u001b[38;5;241m=\u001b[39mword_list)\n\u001b[0;32m--> 498\u001b[0m     query_result \u001b[38;5;241m=\u001b[39m [{\u001b[38;5;124m'\u001b[39m\u001b[38;5;124mquery_id\u001b[39m\u001b[38;5;124m'\u001b[39m:i\u001b[38;5;241m+\u001b[39mj,\u001b[38;5;124m'\u001b[39m\u001b[38;5;124mresult\u001b[39m\u001b[38;5;124m'\u001b[39m:search_query_v9(q,df,column\u001b[38;5;241m=\u001b[39mcolumn,num_results\u001b[38;5;241m=\u001b[39mnum_results,index\u001b[38;5;241m=\u001b[39mindex,model\u001b[38;5;241m=\u001b[39mmodel,id_mapping\u001b[38;5;241m=\u001b[39mid_mapping,operator\u001b[38;5;241m=\u001b[39mop,\u001b[38;5;241m*\u001b[39m\u001b[38;5;241m*\u001b[39mkwargs)} \n\u001b[1;32m    499\u001b[0m             \u001b[38;5;28;01mfor\u001b[39;00m j,q \u001b[38;5;129;01min\u001b[39;00m \u001b[38;5;28menumerate\u001b[39m(query_set)]\n\u001b[1;32m    500\u001b[0m     temp\u001b[38;5;241m.\u001b[39mextend(query_result)\n\u001b[1;32m    501\u001b[0m bulk_query_result[\u001b[38;5;124m'\u001b[39m\u001b[38;5;124mdata\u001b[39m\u001b[38;5;124m'\u001b[39m] \u001b[38;5;241m=\u001b[39m temp\n",
      "File \u001b[0;32m/home/notebooks/../lib/galaxy_utils.py:498\u001b[0m, in \u001b[0;36m<listcomp>\u001b[0;34m(.0)\u001b[0m\n\u001b[1;32m    496\u001b[0m \u001b[38;5;28;01mfor\u001b[39;00m i, qr \u001b[38;5;129;01min\u001b[39;00m \u001b[38;5;28menumerate\u001b[39m(query_list):\n\u001b[1;32m    497\u001b[0m     query_set \u001b[38;5;241m=\u001b[39m wildcard_query_builder_v2(qr, word_list\u001b[38;5;241m=\u001b[39mword_list)\n\u001b[0;32m--> 498\u001b[0m     query_result \u001b[38;5;241m=\u001b[39m [{\u001b[38;5;124m'\u001b[39m\u001b[38;5;124mquery_id\u001b[39m\u001b[38;5;124m'\u001b[39m:i\u001b[38;5;241m+\u001b[39mj,\u001b[38;5;124m'\u001b[39m\u001b[38;5;124mresult\u001b[39m\u001b[38;5;124m'\u001b[39m:\u001b[43msearch_query_v9\u001b[49m\u001b[43m(\u001b[49m\u001b[43mq\u001b[49m\u001b[43m,\u001b[49m\u001b[43mdf\u001b[49m\u001b[43m,\u001b[49m\u001b[43mcolumn\u001b[49m\u001b[38;5;241;43m=\u001b[39;49m\u001b[43mcolumn\u001b[49m\u001b[43m,\u001b[49m\u001b[43mnum_results\u001b[49m\u001b[38;5;241;43m=\u001b[39;49m\u001b[43mnum_results\u001b[49m\u001b[43m,\u001b[49m\u001b[43mindex\u001b[49m\u001b[38;5;241;43m=\u001b[39;49m\u001b[43mindex\u001b[49m\u001b[43m,\u001b[49m\u001b[43mmodel\u001b[49m\u001b[38;5;241;43m=\u001b[39;49m\u001b[43mmodel\u001b[49m\u001b[43m,\u001b[49m\u001b[43mid_mapping\u001b[49m\u001b[38;5;241;43m=\u001b[39;49m\u001b[43mid_mapping\u001b[49m\u001b[43m,\u001b[49m\u001b[43moperator\u001b[49m\u001b[38;5;241;43m=\u001b[39;49m\u001b[43mop\u001b[49m\u001b[43m,\u001b[49m\u001b[38;5;241;43m*\u001b[39;49m\u001b[38;5;241;43m*\u001b[39;49m\u001b[43mkwargs\u001b[49m\u001b[43m)\u001b[49m} \n\u001b[1;32m    499\u001b[0m             \u001b[38;5;28;01mfor\u001b[39;00m j,q \u001b[38;5;129;01min\u001b[39;00m \u001b[38;5;28menumerate\u001b[39m(query_set)]\n\u001b[1;32m    500\u001b[0m     temp\u001b[38;5;241m.\u001b[39mextend(query_result)\n\u001b[1;32m    501\u001b[0m bulk_query_result[\u001b[38;5;124m'\u001b[39m\u001b[38;5;124mdata\u001b[39m\u001b[38;5;124m'\u001b[39m] \u001b[38;5;241m=\u001b[39m temp\n",
      "File \u001b[0;32m/home/notebooks/../lib/galaxy_utils.py:439\u001b[0m, in \u001b[0;36msearch_query_v9\u001b[0;34m(query, df, column, num_results, index, model, id_mapping, **kwargs)\u001b[0m\n\u001b[1;32m    437\u001b[0m         stat_dict \u001b[38;5;241m=\u001b[39m {\u001b[38;5;124m\"\u001b[39m\u001b[38;5;124mno of documents containing the exact query\u001b[39m\u001b[38;5;124m\"\u001b[39m:\u001b[38;5;124m\"\u001b[39m\u001b[38;5;124mNA\u001b[39m\u001b[38;5;124m\"\u001b[39m}\n\u001b[1;32m    438\u001b[0m \u001b[38;5;28;01melif\u001b[39;00m search_criteria \u001b[38;5;241m==\u001b[39m \u001b[38;5;124m'\u001b[39m\u001b[38;5;124mNear\u001b[39m\u001b[38;5;124m'\u001b[39m:\n\u001b[0;32m--> 439\u001b[0m     df_ret \u001b[38;5;241m=\u001b[39m \u001b[43mid2details_v7\u001b[49m\u001b[43m(\u001b[49m\u001b[43mquery\u001b[49m\u001b[43m,\u001b[49m\u001b[43m \u001b[49m\u001b[43mdf\u001b[49m\u001b[43m \u001b[49m\u001b[43m,\u001b[49m\u001b[43mcolumn\u001b[49m\u001b[38;5;241;43m=\u001b[39;49m\u001b[43mcolumn\u001b[49m\u001b[43m,\u001b[49m\u001b[43mnum_results\u001b[49m\u001b[38;5;241;43m=\u001b[39;49m\u001b[43mnum_results\u001b[49m\u001b[43m,\u001b[49m\u001b[43mindex\u001b[49m\u001b[38;5;241;43m=\u001b[39;49m\u001b[43mindex\u001b[49m\u001b[43m,\u001b[49m\u001b[43mmodel\u001b[49m\u001b[38;5;241;43m=\u001b[39;49m\u001b[43mmodel\u001b[49m\u001b[43m,\u001b[49m\u001b[43mid_mapping\u001b[49m\u001b[38;5;241;43m=\u001b[39;49m\u001b[43mid_mapping\u001b[49m\u001b[43m,\u001b[49m\u001b[38;5;241;43m*\u001b[39;49m\u001b[38;5;241;43m*\u001b[39;49m\u001b[43mkwargs\u001b[49m\u001b[43m)\u001b[49m\n\u001b[1;32m    440\u001b[0m     stat_dict \u001b[38;5;241m=\u001b[39m {\u001b[38;5;124m\"\u001b[39m\u001b[38;5;124mno of documents containing the exact query\u001b[39m\u001b[38;5;124m\"\u001b[39m:\u001b[38;5;124m\"\u001b[39m\u001b[38;5;124mNA\u001b[39m\u001b[38;5;124m\"\u001b[39m}\n\u001b[1;32m    441\u001b[0m \u001b[38;5;28;01melse\u001b[39;00m:\n",
      "File \u001b[0;32m/home/notebooks/../lib/galaxy_utils.py:274\u001b[0m, in \u001b[0;36mid2details_v7\u001b[0;34m(query, df, column, num_results, index, model, id_mapping, **kwargs)\u001b[0m\n\u001b[1;32m    271\u001b[0m \u001b[38;5;28;01mdef\u001b[39;00m \u001b[38;5;21mid2details_v7\u001b[39m(query, df ,column\u001b[38;5;241m=\u001b[39m[],num_results\u001b[38;5;241m=\u001b[39m\u001b[38;5;241m10\u001b[39m,index\u001b[38;5;241m=\u001b[39m\u001b[38;5;28;01mNone\u001b[39;00m,model\u001b[38;5;241m=\u001b[39m\u001b[38;5;28;01mNone\u001b[39;00m,id_mapping\u001b[38;5;241m=\u001b[39m\u001b[38;5;28;01mNone\u001b[39;00m,\u001b[38;5;241m*\u001b[39m\u001b[38;5;241m*\u001b[39mkwargs):\n\u001b[1;32m    272\u001b[0m \u001b[38;5;250m    \u001b[39m\u001b[38;5;124;03m\"\"\"Test for Document level AND/OR operation\u001b[39;00m\n\u001b[1;32m    273\u001b[0m \u001b[38;5;124;03m    \"\"\"\u001b[39;00m\n\u001b[0;32m--> 274\u001b[0m     D, I \u001b[38;5;241m=\u001b[39m \u001b[43mvector_search\u001b[49m\u001b[43m(\u001b[49m\u001b[43m[\u001b[49m\u001b[43mquery\u001b[49m\u001b[43m]\u001b[49m\u001b[43m,\u001b[49m\u001b[43mnum_results\u001b[49m\u001b[38;5;241;43m=\u001b[39;49m\u001b[43mnum_results\u001b[49m\u001b[43m,\u001b[49m\u001b[43mindex\u001b[49m\u001b[38;5;241;43m=\u001b[39;49m\u001b[43mindex\u001b[49m\u001b[43m,\u001b[49m\u001b[43mmodel\u001b[49m\u001b[38;5;241;43m=\u001b[39;49m\u001b[43mmodel\u001b[49m\u001b[43m)\u001b[49m\n\u001b[1;32m    276\u001b[0m     df\u001b[38;5;241m.\u001b[39mid_process \u001b[38;5;241m=\u001b[39m df\u001b[38;5;241m.\u001b[39mid_process\u001b[38;5;241m.\u001b[39mastype(\u001b[38;5;124m'\u001b[39m\u001b[38;5;124mint\u001b[39m\u001b[38;5;124m'\u001b[39m) \u001b[38;5;66;03m### added on 21.03.2022\u001b[39;00m\n\u001b[1;32m    278\u001b[0m     result_df \u001b[38;5;241m=\u001b[39m [df[df\u001b[38;5;241m.\u001b[39mid_process \u001b[38;5;241m==\u001b[39m idx][column]\u001b[38;5;241m.\u001b[39mvalues\u001b[38;5;241m.\u001b[39mtolist()[\u001b[38;5;241m0\u001b[39m] \u001b[38;5;28;01mfor\u001b[39;00m idx \u001b[38;5;129;01min\u001b[39;00m I[\u001b[38;5;241m0\u001b[39m]]\n",
      "File \u001b[0;32m/home/notebooks/../lib/galaxy_utils.py:56\u001b[0m, in \u001b[0;36mvector_search\u001b[0;34m(query, num_results, index, model)\u001b[0m\n\u001b[1;32m     54\u001b[0m index \u001b[38;5;241m=\u001b[39m index\n\u001b[1;32m     55\u001b[0m vector \u001b[38;5;241m=\u001b[39m model\u001b[38;5;241m.\u001b[39mencode(\u001b[38;5;28mlist\u001b[39m(query))\n\u001b[0;32m---> 56\u001b[0m D, I \u001b[38;5;241m=\u001b[39m \u001b[43mindex\u001b[49m\u001b[38;5;241;43m.\u001b[39;49m\u001b[43msearch\u001b[49m\u001b[43m(\u001b[49m\u001b[43mnp\u001b[49m\u001b[38;5;241;43m.\u001b[39;49m\u001b[43marray\u001b[49m\u001b[43m(\u001b[49m\u001b[43mvector\u001b[49m\u001b[43m)\u001b[49m\u001b[38;5;241;43m.\u001b[39;49m\u001b[43mastype\u001b[49m\u001b[43m(\u001b[49m\u001b[38;5;124;43m\"\u001b[39;49m\u001b[38;5;124;43mfloat32\u001b[39;49m\u001b[38;5;124;43m\"\u001b[39;49m\u001b[43m)\u001b[49m\u001b[43m,\u001b[49m\u001b[43m \u001b[49m\u001b[43mk\u001b[49m\u001b[38;5;241;43m=\u001b[39;49m\u001b[43mnum_results\u001b[49m\u001b[43m)\u001b[49m\n\u001b[1;32m     57\u001b[0m \u001b[38;5;28;01mreturn\u001b[39;00m D, I\n",
      "\u001b[0;31mTypeError\u001b[0m: search() missing 3 required positional arguments: 'x', 'distances', and 'labels'"
     ]
    }
   ],
   "source": [
    "query = 'failure with sn65lvds390 and manufacturer is texas instruments'\n",
    "search_criteria = 'Near'\n",
    "max_res = '10'\n",
    "if max_res == 'all':\n",
    "    max_res = 500\n",
    "    if search_criteria == 'Exact':\n",
    "        max_res = -1\n",
    "    \n",
    "_, op, __ = detect_operator(query)\n",
    "if _:\n",
    "    search_criteria = 'Near'\n",
    "    max_res = 500\n",
    "\n",
    "query = query.lower()\n",
    "result_dict = search_query_w_wildcard_v9(query , df, column = ['doc_id','id','sent_id','sentences'], num_results=int(max_res), index=index, model=model,\n",
    "id_mapping=id_mapping_df, word_list=word_list, fold_files_mapping_df=fold_files_df, file_type=file_type_mapping,\n",
    "conclusion_data=conclusion_df, search_criteria=search_criteria, zendesk_df = zendesk_df)"
   ]
  },
  {
   "cell_type": "code",
   "execution_count": 7,
   "id": "447c6c28-29bc-470b-be22-d9cfbdb1032d",
   "metadata": {},
   "outputs": [
    {
     "data": {
      "text/plain": [
       "{'data': [{'query_id': 0,\n",
       "   'result': {'query': 'coil',\n",
       "    'statistics': {'no of documents containing the exact query': 26},\n",
       "    'query_result': [{'doc': '/Failure Analysis_Teledyne_422H-12G_16-3879 SCHLUMBERGER USA',\n",
       "      'PN': 103058891,\n",
       "      'count': 17,\n",
       "      'Type': 'SLB_RDMC_FA Report',\n",
       "      'Classification Path': 'FA-PCS->Electromechanical->Relay',\n",
       "      'page_sentence_details': [{'page_no': '9',\n",
       "        'count_by_page': 6,\n",
       "        'sentences': ['more over electrical test confirmed that the open circuit was localized inside the <b>coil</b>',\n",
       "         ': optical inspection after <b>coil</b> sampling after sampling of the <b>coil</b> and dismantling of the <b>coil</b> we observed the presence of broken wire failure analysis on relay analysis performed in laboratory with quality management system certified afaq iso 9001',\n",
       "         'sampling of the <b>coil</b>',\n",
       "         'mechanical opening of the can: : optical inspection after can removal no anomaly was observed on the connection between the wires of <b>coil</b> and the leads.']},\n",
       "       {'page_no': '2',\n",
       "        'count_by_page': 6,\n",
       "        'sentences': ['after mechanical opening, no anomaly was observed on the connection between the wires of <b>coil</b> and the leads.',\n",
       "         'electrical test confirmed that <b>coil</b> was measured in open circuit as <b>coil</b> was in open circuit, it was not possible to switch the relay to the initial position no anomaly was measured on the contacts.',\n",
       "         '-rays inspection of the failed part showed the presence of some residues close to the solder of the pin 5 and the <b>coil</b> wire.',\n",
       "         'conclusion: the failure of the relay is due to the presence of an open circuit localized in the <b>coil</b> .',\n",
       "         'moreover electrical test confirmed that the open circuit was localized inside the <b>coil</b>, where broken wire was observed.']},\n",
       "       {'page_no': '7',\n",
       "        'count_by_page': 4,\n",
       "        'sentences': ['table 1: electrical measurements on the <b>coil</b>',\n",
       "         '-rays inspection of the failed part showed the presence of some residues close to the solder of the pin 5 and the <b>coil</b> wire.',\n",
       "         '<b>coil</b> was measured in open circuit failure analysis on relay analysis performed in laboratory with quality management system certified afaq iso 9001',\n",
       "         '<b>coil</b>:']},\n",
       "       {'page_no': '8',\n",
       "        'count_by_page': 1,\n",
       "        'sentences': ['as <b>coil</b> was in open circuit, it was not possible to switch the relay to the initial position no anomaly was measured on the contacts.']}],\n",
       "      'report_conclusion': ' Optical inspection showed no main anomaly on the failed part, excepted the presence of some residues, probably due to the part disassembly . Fine and Gross leak tests did not reveal any leakage on the part . Electrical test confirmed that coil A was measured in open circuit .',\n",
       "      'zendesk_no': 'NA'},\n",
       "     {'doc': '/Failure Analysis_MICROSPIRE_P-TF5-21X8-5_17-1982-100&110_ALB_USA',\n",
       "      'PN': 103054582,\n",
       "      'count': 11,\n",
       "      'Type': 'SLB_RDMC_FA Report',\n",
       "      'Classification Path': 'FA-PCS->Discrete->Inductor-Transformer',\n",
       "      'page_sentence_details': [{'page_no': '3',\n",
       "        'count_by_page': 3,\n",
       "        'sentences': ['the failure of these two transformers was due to the degradation of the <b>coil</b> wire enamel which let in contact the bare copper of the <b>coil</b>s n1 and n2 (short circuit between the two <b>coil</b>s).']},\n",
       "       {'page_no': '9',\n",
       "        'count_by_page': 3,\n",
       "        'sentences': ['the n1 and n2 <b>coil</b>s were in short circuit for bad1 and bad2 parts.',\n",
       "         'under 12v/0.5a electrical supply, the n1/n2 <b>coil</b>s presented large hot area which indicated the presence of short circuit.',\n",
       "         'under 12v/0.5a electrical supply, the n1/n2 <b>coil</b>s presented hot area']},\n",
       "       {'page_no': '11',\n",
       "        'count_by_page': 2,\n",
       "        'sentences': ['the enamel was particularly damaged on the two <b>coil</b> wires and we can observed the presence of contact',\n",
       "         'under 12v/0.5a electrical supply, the n1/n2 <b>coil</b>s presented hot spot located in the area']},\n",
       "       {'page_no': '13',\n",
       "        'count_by_page': 1,\n",
       "        'sentences': ['the enamel was damaged on the two <b>coil</b> wires and we can observed the presence']},\n",
       "       {'page_no': '12',\n",
       "        'count_by_page': 1,\n",
       "        'sentences': ['under 12v/0.5a electrical supply, the n1/n2 <b>coil</b>s presented hot spot located in the area']},\n",
       "       {'page_no': '6',\n",
       "        'count_by_page': 1,\n",
       "        'sentences': ['the enamel of these two transformers turned black and was damaged at some locations with bare copper of the <b>coil</b> wires.']}],\n",
       "      'report_conclusion': ' BAD1 turned turned black and damagedenamel turned into black . Bad1 turned out to be damaged with bare copper wire . BAD1 turns out to have a short',\n",
       "      'zendesk_no': 'NA'},\n",
       "     {'doc': '/Failure_Analysis_Transformers_100521486_AF15-1668-SCHLUMBERGER',\n",
       "      'PN': 103054477,\n",
       "      'count': 8,\n",
       "      'Type': 'SLB_RDMC_FA Report',\n",
       "      'Classification Path': 'FA-PCS->Discrete->Inductor-Transformer',\n",
       "      'page_sentence_details': [{'page_no': '16',\n",
       "        'count_by_page': 1,\n",
       "        'sentences': ['pink resin penetration was observed between core and <b>coil</b> winding.']},\n",
       "       {'page_no': '29',\n",
       "        'count_by_page': 1,\n",
       "        'sentences': ['pink resin penetration was observed between core and <b>coil</b> winding.']},\n",
       "       {'page_no': '28',\n",
       "        'count_by_page': 1,\n",
       "        'sentences': ['for sn4 and sn47, <b>coil</b> resistance was lower than the specification limit (secondary).']},\n",
       "       {'page_no': '9',\n",
       "        'count_by_page': 1,\n",
       "        'sentences': ['for sn144, <b>coil</b> resistance (secondary) was lower than the specification limit.']},\n",
       "       {'page_no': '10',\n",
       "        'count_by_page': 1,\n",
       "        'sentences': ['pink resin penetrated between core and <b>coil</b> windings.']},\n",
       "       {'page_no': '22',\n",
       "        'count_by_page': 1,\n",
       "        'sentences': ['pink resin did not penetrate between core and <b>coil</b> winding.']},\n",
       "       {'page_no': '21',\n",
       "        'count_by_page': 1,\n",
       "        'sentences': ['for both transformers, <b>coil</b> resistance (secondary) was lower than the specification limit.']},\n",
       "       {'page_no': '15',\n",
       "        'count_by_page': 1,\n",
       "        'sentences': ['for sn53 and sn138, <b>coil</b> resistance was lower than the specification limit (secondary).']}],\n",
       "      'report_conclusion': ' Cracks have been observed in the core material of three failed transformers . The origin of thesecracks has to be investigated mechanical shocks thermal expansion .',\n",
       "      'zendesk_no': 'NA'},\n",
       "     {'doc': '/Failure_Analysis_Transformers_100521486_AF15-0656 SLB CLAMART',\n",
       "      'PN': 103054477,\n",
       "      'count': 6,\n",
       "      'Type': 'SLB_RDMC_FA Report',\n",
       "      'Classification Path': 'FA-PCS->Discrete->Inductor-Transformer',\n",
       "      'page_sentence_details': [{'page_no': '2',\n",
       "        'count_by_page': 3,\n",
       "        'sentences': ['however we noticed that for both components the secondary <b>coil</b> resistance was below the specified value.',\n",
       "         'electrical tests confirmed the presence of low inductance on the g1675588 primary <b>coil</b>, but the inductance of g1675589 primary <b>coil</b> was within the specification.']},\n",
       "       {'page_no': '10',\n",
       "        'count_by_page': 3,\n",
       "        'sentences': ['however we noticed that for both components the secondary <b>coil</b> resistance was below the specified value.',\n",
       "         'electrical tests confirmed the presence of low inductance on the g1675588 primary <b>coil</b>, but the inductance of g1675589 primary <b>coil</b> was within the specification.']}],\n",
       "      'report_conclusion': ' Optical and X rays inspections of G1675588 showed the presence of a crack in the bottomferrite of the component . The crack could become bigger during partheating and then make the inductance decrease even more .',\n",
       "      'zendesk_no': 'NA'},\n",
       "     {'doc': '/Failure Analysis_Transformer_16-0420 SCHLUMBERGER Clamart',\n",
       "      'PN': 103058914,\n",
       "      'count': 5,\n",
       "      'Type': 'SLB_RDMC_FA Report',\n",
       "      'Classification Path': 'FA-PCS->Discrete->Inductor-Transformer',\n",
       "      'page_sentence_details': [{'page_no': '2',\n",
       "        'count_by_page': 3,\n",
       "        'sentences': ['electrical tests confirmed that <b>coil</b>s s1s2 and k1k2 are in open circuit.',\n",
       "         'the black resin present on surface of <b>coil</b>s was stiff.',\n",
       "         'black and stiff resin is present on surface of the <b>coil</b>s.']},\n",
       "       {'page_no': '9',\n",
       "        'count_by_page': 2,\n",
       "        'sentences': ['its removal has led to ruptures of wires who were on the surface of <b>coil</b>s (parts of the wire going from the connection plot to the <b>coil</b>s).']}],\n",
       "      'report_conclusion': ' Failure analysis performed in a laboratory with a Quality Management System certified A FAQ ISO 9001 .',\n",
       "      'zendesk_no': 'NA'},\n",
       "     {'doc': '/103463427_0_PCS_Sheet___PCBA0267_Power_Connection_loss',\n",
       "      'PN': 103463427,\n",
       "      'count': 5,\n",
       "      'Type': 'PCS Sheet',\n",
       "      'Classification Path': 'FA-PCS->Discrete->Inductor-Transformer',\n",
       "      'page_sentence_details': [{'page_no': '1',\n",
       "        'count_by_page': 5,\n",
       "        'sentences': ['solutionusing better attach between component/<b>coil</b> body and pwb is  way of reinforcing theassembly.',\n",
       "         'additionally no supply current was consumedcauseby manipulating the <b>coil</b> on the board the power and communication path could be establishedagain and the current consumption from the supply was normal.',\n",
       "         'this appear to be related tomechanical stress linked to <b>coil</b>/transformer weight and assembly method (rtv).',\n",
       "         'the plated thru hole filling is  bit low; this could be explained by the assembly and the thermalmass of the <b>coil</b>.',\n",
       "         'it is very likely that the <b>coil</b> hasan broken or lose connection to the pcb.the cracks related to pins are visible on pin 2 (start only), 3 and 4.']}],\n",
       "      'report_conclusion': '',\n",
       "      'zendesk_no': 'NA'},\n",
       "     {'doc': '/Failure Analysis_Teledyne_422K-5-R_16-2393 SCHLUMBERGER USA',\n",
       "      'PN': 103066419,\n",
       "      'count': 4,\n",
       "      'Type': 'SLB_RDMC_FA Report',\n",
       "      'Classification Path': 'FA-PCS->Electromechanical->Relay',\n",
       "      'page_sentence_details': [{'page_no': '6',\n",
       "        'count_by_page': 3,\n",
       "        'sentences': ['table 1: electrical measurements on the <b>coil</b> *',\n",
       "         '<b>coil</b>:',\n",
       "         'at first measurement only, setting voltage of the failed part for <b>coil</b>s and was higher than the specification.']},\n",
       "       {'page_no': '8',\n",
       "        'count_by_page': 1,\n",
       "        'sentences': ['page 7 / 9 removal of the <b>coil</b> from the contact']}],\n",
       "      'report_conclusion': ' The failure of the relay is due to the presence of silicon on the contact areas of each contactand especially on the failed ones contacts 3 1 and 8 6 . This could explain the high resistance measured in the contacts .',\n",
       "      'zendesk_no': 'NA'},\n",
       "     {'doc': '/103495983_0_Relay EL210B3A1313 Failure  Construction analysis',\n",
       "      'PN': 103495983,\n",
       "      'count': 3,\n",
       "      'Type': 'SLB_RDMC_FA Report',\n",
       "      'Classification Path': 'FA-PCS->Electromechanical->Relay',\n",
       "      'page_sentence_details': [{'page_no': '2',\n",
       "        'count_by_page': 3,\n",
       "        'sentences': ['<b>coil</b> wire 12 : good part_front 12 dms # 103495983',\n",
       "         'table of figures : fail overview 3 : fail overview 5 : fail pin -x2 5 : fail pin b1 5 : fail pin b2 5 : fail pin b3 6 : fail top overview 6 : good overview 6 : good top overview 6 : failed part_<b>coil</b>s zoom 7 : failed part_contact iso 7 : failed part_contact zoom 7 : failed part_iso top 7 : failed part_top zoom 7 : failed part_top 7 : good part_<b>coil</b>s zoom 8 : good part_contact iso 8 : good part_contact zoom 8 : good part_iso top 8 : good part_top 8 : good part_top zoom 8 : failed part_switched top 9 : failed part_switched back top 9 : good part_switched top 9 : fine & gross leak test results 10 : failed part_overview front 11 : failed part_overview']}],\n",
       "      'report_conclusion': ' Issue not well identified at that point . At X Ray level there is a slight mechanical difference at contact level . Electrical test is fine on both relay in both position at ambient .',\n",
       "      'zendesk_no': 'NA'},\n",
       "     {'doc': '/ANALOG_ADuM1301WTRWZ_20-2528-384 SLB',\n",
       "      'PN': 103628815,\n",
       "      'count': 3,\n",
       "      'Type': 'Analysis Report',\n",
       "      'Classification Path': 'CA-PhyRA Reports->IC-Electrical Function->Discrete Logic',\n",
       "      'page_sentence_details': [{'page_no': '2',\n",
       "        'count_by_page': 3,\n",
       "        'sentences': ['it is to be noted that the <b>coil</b> bonding was not tested due to the presence of polyimide between gold metallization of <b>coil</b> , damaged during chemical opening .',\n",
       "         'however section on the <b>coil</b> bonding did not reveal any defect at this interface construction analysis on adum1301wtrwz from analog devices at t2000h']}],\n",
       "      'report_conclusion': ' No anomaly was observed during the construction analysis . The package integrity was correct . The wire pull test was satisfied .',\n",
       "      'zendesk_no': 'NA'},\n",
       "     {'doc': '/Failure Analysis_Transformer_16-1868 SCHLUMBERGER USA',\n",
       "      'PN': 103066412,\n",
       "      'count': 3,\n",
       "      'Type': 'SLB_RDMC_FA Report',\n",
       "      'Classification Path': 'FA-PCS->Discrete->Inductor-Transformer',\n",
       "      'page_sentence_details': [{'page_no': '14',\n",
       "        'count_by_page': 2,\n",
       "        'sentences': ['after <b>coil</b>s unwinding',\n",
       "         'optical inspection showed the presence of black area on the last <b>coil</b>s (n1/n2)']},\n",
       "       {'page_no': '2',\n",
       "        'count_by_page': 1,\n",
       "        'sentences': ['-rays inspection of the potted part showed the presence of some solders balls, all around the component dark area was observed on the last <b>coil</b>s (n1/n2)']}],\n",
       "      'report_conclusion': ' On FNPO and FNPA we observed the presence of dark residues on the wires probably burnt marks . We consider that the failure observed by the customer on the three parts ismainly due to an electrical over stress .',\n",
       "      'zendesk_no': 'NA'}]}}]}"
      ]
     },
     "execution_count": 7,
     "metadata": {},
     "output_type": "execute_result"
    }
   ],
   "source": [
    "result_dict"
   ]
  },
  {
   "cell_type": "code",
   "execution_count": null,
   "id": "949f4b89-90da-4c65-aa0b-7baf6f16c391",
   "metadata": {},
   "outputs": [],
   "source": []
  },
  {
   "cell_type": "code",
   "execution_count": 6,
   "id": "90dd36dd-904d-41dc-aaa8-3560a365eb3b",
   "metadata": {},
   "outputs": [],
   "source": [
    "import sys\n",
    "sys.path.append(\"/home/src/Galaxy/genai_utils/\")"
   ]
  },
  {
   "cell_type": "code",
   "execution_count": 7,
   "id": "16009aab-14b4-4e5d-a79d-e6a25ad8b718",
   "metadata": {},
   "outputs": [],
   "source": [
    "from embedding_retrieve_cross_encoder import sentence_transformer_paragraph_embedding"
   ]
  },
  {
   "cell_type": "code",
   "execution_count": 8,
   "id": "58c822a1",
   "metadata": {},
   "outputs": [
    {
     "data": {
      "application/vnd.jupyter.widget-view+json": {
       "model_id": "c055db602cda4313ae384ffc24bf9321",
       "version_major": 2,
       "version_minor": 0
      },
      "text/plain": [
       "Batches:   0%|          | 0/16 [00:00<?, ?it/s]"
      ]
     },
     "metadata": {},
     "output_type": "display_data"
    },
    {
     "data": {
      "application/vnd.jupyter.widget-view+json": {
       "model_id": "a31bb35ce8e14ee6a5feb4ce72e72a53",
       "version_major": 2,
       "version_minor": 0
      },
      "text/plain": [
       "  0%|          | 0/502 [00:00<?, ?it/s]"
      ]
     },
     "metadata": {},
     "output_type": "display_data"
    }
   ],
   "source": [
    "sen_t = sentence_transformer_paragraph_embedding(\"../data/genai_poc/processed/AI_POC_pdf_extracted_sectional_data_oct_dec.pkl\")"
   ]
  },
  {
   "cell_type": "code",
   "execution_count": 9,
   "id": "24eb308f",
   "metadata": {},
   "outputs": [
    {
     "name": "stdout",
     "output_type": "stream",
     "text": [
      "Input question: How does the design of thermal vias in QFN packages affect thermal and power dissipation?\n"
     ]
    }
   ],
   "source": [
    "passages, hits, search_results = sen_t.search(query = \"How does the design of thermal vias in QFN packages affect thermal and power dissipation?\")"
   ]
  },
  {
   "cell_type": "code",
   "execution_count": 10,
   "id": "33fb8ea5",
   "metadata": {},
   "outputs": [
    {
     "data": {
      "text/plain": [
       "['8. CONCLUSIONS    Finish effects on QFN thermal pad solder joints have been evaluated for QFN packages with different lead finishes including electrolytic Au/electrolytic Pd/electrolytic Ni and immersion Au/electrolytic Pd/electroless Ni, soldered to printed wiring boards with ENIG and ENEPIG plating using eutectic tin-lead solder. In addition, the effect of pre solder tinning of those two surfaces was also evaluated. These results were then used to identify potential finish related mechanisms affecting void formation within the formed solder joints. Both base finish pairings showed poor wetting behavior and resulted in large voids and high % voiding in the QFN thermal pads. In these cases, the finish related mechanism that appears to dominate the high percentage of void formation is large quantities of IMC formation within the bulk solder which likely changed the solder viscosity and inhibited volatile bubble escape from the joint leading to void formation upon solidification. The Pair 2 solder joint, between a QFN with electrolytic Au/electrolytic Pd/electrolytic Ni leads pretinned with solder prior to solder attach to a PWB with ENIG finish yielded significant reduction in voiding by eliminating a majority of the IMC   Proceedings of SMTA International, Sept. 22-26, 2019, Rosemont, IL, USA 758formation within the bulk solder. Lead tinning in the case of immersion Au/electrolytic Pd/electroless Ni to ENEPIG appears to increase the “wetting forces” which oppose void escape from the joint and imply that there may be a wetting threshold associated with QFN thermal pad formation. ',\n",
       " '5. Sample configuration    The component package used in the current study is an 8 x 8 mm, 54-pin, open-cavity plastic QFN package. Two initial plating configurations are considered: 1) electrolytic Au over electrolytic Pd over electrolytic Ni finish stack up with layer thicknesses of 0.08-0.13 µm, 0.13-0.38 µm, and 2.03 µm minimum, respectively; and 2) immersion Au over electrolytic Pd over electroless Ni finish stack up with layer thicknesses of 0.05-0.13 µm, 0.13-0.38 µm, and 2.03 µm minimum, respectively. The PWB configuration used is a 2.6 mm-thick, 15-layer PWB constructed of controlled dielectric laminates. The PWB thermal pad design consists of a solid 0.05 mm thick Cu pad with a 9 x 9 square grid of 0.18 mm diameter vias non-conductively filled and Cu-capped. Dimpling of plating over the filled vias was limited to less than 0.05 mm. The two PWB finishes assessed were ENIG per IPC-4552 (0.04-0.1 µm Au over NiP over Cu) and ENEPIG per IPC-4556 (>0.030 µm Au over 0.05-0.30 µm Pd over NiP over Cu) [13, 14]. To isolate PWB finish effects, alternate “controlled finish” version of both QFN packages were created by flushing both types of AuPdNi-plated lead surfaces with a 235oC max liquid eutectic Sn-Pb solder wave for a maximum of 30 seconds resulting in similar predominantly Sn-Pb finishes. The soldered surface finish pairings for the component and PWBs evaluated are summarized in Table 2. Table 2. List of component and PWB finish pairings evaluated Pair Component PWB finish 1 electrolytic Au/electrolytic Pd/electrolytic Ni ENIG 2 electrolytic Au/electrolytic Pd/electrolytic Ni - tinned ENIG 3 immersion Au/electrolytic Pd/electroless Ni ENEPIG 4 immersion Au/electrolytic Pd/electroless Ni - tinned ENEPIG  The solder paste used is a halogen free, no clean, type 3 eutectic SnPb solder paste. Solder reflow was achieved using a Vitronics Soltec XPM-730 multi-zone reflow oven with a target reflow temperature of ~215-217oC. No modifications to the ramp rates, heating stage, or reflow duration were attempted to affect the resultant QFN solder joint formation. Voiding of the soldered QFNs was determined using X-ray Proceedings of SMTA International, Sept. 22-26, 2019, Rosemont, IL, USA 754inspection and image analysis. Then the microstructure of assembled QFN solder joints was characterized by microsection analysis using a Hitachi S-3700N variable pressure (VP) scanning electron microscope (SEM) at 15 kV. Each phase composition was characterized using semiquantitative analysis with a Bruker X-flash silicon-based energy-dispersive X-ray spectroscopy (EDS) detector and identification of each was inferred based on existing data on the material systems involved. A typical QFN microsection can be seen below in Figure 2.  Figure 2. Typical QFN microsection (photo by Nancy Armstrong) ',\n",
       " '11. REFERENCES    [1] R. Ghaffarian, \"Body of Knowledge (BOK) for Leadless Quad Flat No-Lead/Bottom Termination Components (QFN/BTC) Package Trends and Reliability,\" Jet Propulsion Laboratory Publication 14- 17, Pasadena, California, 2014. [2] M. K. Anselm and R. Ghaffarian, \"QFN Reliability, Thermal Shock, Lead-free vs. SnPb, Microstructure,\" in IEEE ITHERM Conference, Orlando, FL, 2017. [3] Mirror Semiconductor, [Online]. Available: https://www.mirrorsemi.com/NiPdAu.html. [Accessed 26 June 2019]. [4] P. Lall, S. Deshpande, N. Kothari, J. Suhling and L. Nguyen, \"Effect of Thermal Cycling on Reliability of QFN Packages,\" in IEEE Intersociety Conference on Thermal and Thermomechanical Phenomena in Electronic Systems (ITHERM), San Diego, CA, 2018. [5] H. Gadepalli, R. Dhanasekaran, S. M. Ramkumar, T. Jensen and E. Briggs, \"Influence of Reflow Profile and Pb-Free Solder Paste in Minimizing Voids for Quad Flat Pack No-Lead (QFN) Assembly,\" in IEEE - Electronic Components and Technology Conference, San Diego, CA, 2009. [6] P. I. Zappella, S. Sedehi, R. Hizon and A. D. Williams, \"Achieving Low Voiding with Lead Free Solder Paste for Power Devices,\" in IMAPS - International Symposium on Microelectronics, Pasadena, CA, 2016. [7] A. Lifton, W. Bent, F. Andres, I. Lazovskaya and J. Fullerton, \"Solder Paste Selection Challenges for Bottom Termination Components (BTC) Attach,\" in Proceedings of SMTA International, Rosemont, IL, 2018. [8] D. Herron, Y. Liu and N.-C. Lee, \"The Effect of Thermal Pad Patterning on QFN Voiding,\" in Proceedings of SMTA International, Orlando, FL, 2012. [9] J. Bath, M. Itoh, G. Clark, N. Uchida, H. Takahashi and R. Garcia, \"An Investigation into the Development of Tin-Lead and Lead-Free Solder Pastes to Reduce Voiding in Large Contact Area Power Transistor/QFN Type Components,\" in Proceedings of SMTA International, Orlando, FL, 2010. [10] K. Sweatman, T. Nishimura, K. Sugimoto and A. Kita, \"Controlling Voiding Mechanisms in the Reflow Soldering Process,\" in Proceedings of the IPC APEX EXPO, Las Vegas, NV, 2016. [11] N. Eustathopoulos, \"Wetting by Liquid Metals- Application in Materials Processing: The Contribution of the Grenoble Group,\" Metals, vol. 5, pp. 350-370, 2015. [12] K.-N. Tu, Solder Joint Technology, New York: Springer Science+Business Media, LLC., 2007, pp. pp. 185-205. [13] IPC, IPC-4552A Performance Specifications for Electroless Nickel/Immersion Gold (ENIG) Plating for Printed Boards, Bannockburn, IL: IPC, 2017. [14] IPC-4556 Specification for Electroless Nickel/Electroless Palladium/Immersion Gold (ENEPIG) Plating for Printed Circuit Boards, Bannockburn, IL: IPC, 2013. [15] B. Kobe and N. S. McIntyre, \"Investigation of Reactions between Lead/Tin Solder and Palladium Surface Finishes,\" Acta Materialia, vol. 50, pp. 4667- 4676, 2002. [16] I. Shohji, Y. Saitoh, N. Nemoto, T. Nakagama, N. Ebihara and F. Iwasi, \"Effect of Impurities of Au and Pd on Tensile Properties of Eutectic Sn-Pb Solder for Aerospace Applications,\" Transactions of The Japan Institute of Electronic Packaging, vol. 2, no. 1, pp. 29- 34, 2009. [17] H. Berg and E. L. Hall, \"Dissolution Rates and REliability Effects of Au, Ag, Ni, and Cu in Lead Base Solders,\" in IEEE, 11th Reliability Physics Symposium, Las Vegas, NV, 1973. Proceedings of SMTA International, Sept. 22-26, 2019, Rosemont, IL, USA 759[18] D. Bernier, \"The Effect of Metallic Impurities on the Wetting Properties of Solder,\" Kester Company, Worchester, PA, 1999.     Proceedings of SMTA International, Sept. 22-26, 2019, Rosemont, IL, USA 760',\n",
       " '3. INTRODUCTION    Over the past two decades, Quad flat, no-lead (QFN) packages have become commonplace in consumer electronics as the demands for lower standoff height, increased compaction, and enhanced thermal performance have remained primary motivators for technology development in the electronics industry [1, 2]. More recently, a subset of the QFN package class, open (or air) cavity QFNs, have appeared more frequently in many high reliability, radio frequency (RF) applications due to their customize-ability and improved performance. This package usually has the same footprint and lead frame geometry as a typical QFN, but rather than the interconnected active device(s) being potted in resin, the component(s) is sealed within an air cavity. This “open” cavity configuration improves upon the potted version by providing a more favorable operating environment for monolithic microwave electronic circuits (MMICs) which operate more efficiently in air. The configuration of a typical open cavity QFN assembled into a circuit card assembly (CCA) can be seen in Figure 1.  Figure 1. Typical open cavity QFN package configuration. Open cavity QFN packages are available in a wide variety of perimeter pin counts and lead finish options. Perimeter pin counts from eight to 100 are found in package sizes from 3x3 mm to 12x12 mm, respectively. Ni-Au and Ni-Pd-Au plating appear to be most common finishing options, but those exist in various plating types (electrolytic, electroless, and immersion) and thickness ranges. For example, a list of the numerous plating options from a single open cavity QFN package supplier is provided below in Table 1. Table 1. Example list of plating options available from one open cavity QFN manufacturer [3] Type Ni (µm) Pd (µm) Au (µm) 1 2.5 - 7.6 - 1.0 – 2.0 2 4.0 - 6.0 0.05 - 0.10 0.30 – 0.50 3 1.27 - 4.6 0.15 – 0.50 0.10 – 0.20 4 0.5 - 2.0 0.02 - 0.15 0.25 – 0.125 4a 0.5 - 2.0 0.02 - 0.15 0.003 – 0.05  While the flexibility these options permit to adapt package selection to the requirements of a specific application or device interconnection method (e.g., wire bonding) is desirable, this variability in finishes can challenge the ability of surface mount assembly (SMT) processes to form robust solder joints at the next level of assembly. For most QFNs, the manifestation of that challenge appears in the form of voids. Since their introduction, void elimination within the large- area, thermal pad solder joint of all QFN types (molded, ceramic, open cavity, etc.) has remained a significant  Proceedings of SMTA International, Sept. 22-26, 2019, Rosemont, IL, USA 753challenge. Concerns regarding their impacts on package reliability as well as on RF and thermal performance have continued to push the desire to minimize individual void sizes and void area percentage [1, 4]. Because the voids are caused primarily by volatile entrapment during solder reflow and solidification, many previous studies have focused on determining the effects resulting from modifications to that process including temperature profile adjustments, solder paste formulation changes, and alternative solder paste printing patterns. Gadepalli, et al. studied the influence of peak reflow temperatures and paste dispense patterns on 16- and 20-pin QFNs with Sn finish soldered to immersion Ag (ImAg) and organic solderability preservative (OSP) finished printed wiring boards (PWBs) on void formation [5]. Zappella et al. proposed the use of vacuum reflow to achieve low voiding large planar joints [6]. Lifton et al. demonstrated changes in void formation caused by solder paste rheology and printing process variations between 52- and 100-pin QFNs to PWBs [7]. Modifications to the PWB footprint have also been considered. Herron et al. found that patterning of solder mask defined pads and thermal via placement significantly impacted void size and area percentage for 68 pin QFNs with Sn finish soldered to a PWB with NiAu finish [8]. The effects of component and PWB finish have received less attention. The Gadepalli study mentioned previously did note differences in void area between the OSP and ImAg finishes evaluated [5]. Bath et al. also conducted a void study on power transistors with 90Sn10Pb coated leads soldered to various PWB finishes (OSP, NiAu, Sn, and SAC305 hot air solder leveling (HASL)); however, the contributions of finish type to differences in voiding were not considered fully [9]. The concept of component and PWB finish affecting QFN voiding in solder joints is not new. Sweatman et al. proposed factors influencing the size of a QFN void including molten solder surface tension and gas pressure present within the void as well as presented examples of void trapping by poor wetting spots on the adjoining surfaces [10]. Other factors potentially can influence solder behavior and ultimately void formation within the QFN thermal pad solder joints. A fundamental aspect of solder joint formation is the formation of intermetallic compounds (IMC) between the solder and surface finishes which can alter the wetting characteristics of the liquid solder [11]. Also, many finish types, like electroless Ni-immersion Au (ENIG), Au-Pd, and electroless Ni-electroless Pd-immersion Au (ENEPIG), have sacrificial preservative layer(s) which dissolve into the molten solder during reflow. Since the solder volume within a QFN joint is limited, those dissolved elements readily achieve compositions where additional IMCs form, like AuSn4 and PdSn3. These IMCs often initially form at the surface but can spall into the liquid solder creating a change in solder viscosity and potentially inhibit the motion of trapped gases attempting to escape [12]. The formation of these other IMCs compounds can also impact the solder joint after formation since they introduce the risk of embrittlement impacting long term reliability. The objective of the current work is to assess the effects of adherent finishes on joint formation and voiding by studying solder joints between PWBs with ENIG and ENEPIG finishes and open-cavity QFN packages with commonly available finish types. The morphology of those formed solder joints will be described and compared to identify finish effects on the observed voiding and any potential risks to long term reliability will be assessed. ',\n",
       " '1. ABSTRACT    The quad flat no lead (QFN) package connects the integrated circuit (IC) to the printed circuit board (PCB). The exposed copper on the side edges can be a weak point in the long-term reliability of the connection and also lead to the detection of phantom failures in the automated optical inspection (AOI). In order to achieve a 3-dimensional solder connection to the PCB, the preferred approach would be that the solder joint is not only formed between the QFN bottom side and the PCB but also includes the wetting of the QFN flanks. Immersion tin plating offers the possibility to create fully wettable flanks by covering exposed copper at the QFN side walls with a plated tin layer. Nevertheless, there are concerns that immersion plated tin layers might be not enough to pass the shelf-life requirements and heat treatment due to the formation of the Cu/Sn IMC. As the lead frame material differs from the copper substrates as used in standard PCB applications, the immersion tin plating process requires dedicated adjustment. The focus of this study is to investigate the reliability of the immersion tin layers plated by a tailored immersion tin process for QFN flank plating. The tin-plated surface of the QFN flanks is investigated in regard to its soldering performance. This is realized by applying soldering and aging criteria as defined by the target industries. The plating process is tailored to the QFN application and includes specific pretreatment steps to prepare the copper alloy for the immersion tin plating. The properties of the plated immersion tin layers are investigated as well as potential impact of the immersion tin plating process on the electrolytic tin layers covering the QFN top. As tin layers in general are suspected to bear the risk of whisker formation as long as they are not soldered directly, this has been considered in the investigation as well. To tackle this risk, the impact of a whisker mitigating additive is also studied and presented. The soldering performance after different aging conditions is evaluated and correlated to the formation of the intermetallic compound (IMC) after aging. As conclusion it can be stated that the immersion tin coverage of the QFN side flanks allows a enhanced solder wetting and solder joint formation whilst an additionally significant benefit is to enable the possibility of automatic optical inspection. Key words: QFN; Surface finish; Solder Joint; Immersion tin; IMC. ']"
      ]
     },
     "execution_count": 10,
     "metadata": {},
     "output_type": "execute_result"
    }
   ],
   "source": [
    "search_results"
   ]
  },
  {
   "cell_type": "code",
   "execution_count": null,
   "id": "f7efffa6",
   "metadata": {},
   "outputs": [],
   "source": []
  }
 ],
 "metadata": {
  "kernelspec": {
   "display_name": "Python 3 (ipykernel)",
   "language": "python",
   "name": "python3"
  },
  "language_info": {
   "codemirror_mode": {
    "name": "ipython",
    "version": 3
   },
   "file_extension": ".py",
   "mimetype": "text/x-python",
   "name": "python",
   "nbconvert_exporter": "python",
   "pygments_lexer": "ipython3",
   "version": "3.11.4"
  }
 },
 "nbformat": 4,
 "nbformat_minor": 5
}
