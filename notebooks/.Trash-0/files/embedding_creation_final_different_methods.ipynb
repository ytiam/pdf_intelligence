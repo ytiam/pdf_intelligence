{
 "cells": [
  {
   "cell_type": "code",
   "execution_count": 1,
   "id": "94026c14",
   "metadata": {},
   "outputs": [],
   "source": [
    "import pandas as pd\n",
    "import os\n",
    "import faiss\n",
    "from langchain.embeddings import HuggingFaceEmbeddings, SentenceTransformerEmbeddings\n",
    "from langchain.embeddings.spacy_embeddings import SpacyEmbeddings\n",
    "from langchain.embeddings import AlephAlphaAsymmetricSemanticEmbedding\n",
    "from langchain.embeddings import GPT4AllEmbeddings\n",
    "from langchain.text_splitter import CharacterTextSplitter\n",
    "from langchain.vectorstores import Chroma\n",
    "import re\n",
    "import numpy as np"
   ]
  },
  {
   "cell_type": "code",
   "execution_count": 2,
   "id": "2c2a644f",
   "metadata": {},
   "outputs": [],
   "source": [
    "df = pd.read_pickle(\"../data/genai_poc/processed/AI_POC_pdf_extracted_sectional_data_oct_dec.pkl\")"
   ]
  },
  {
   "cell_type": "code",
   "execution_count": 53,
   "id": "706c3760",
   "metadata": {},
   "outputs": [],
   "source": [
    "df_f = df[[\"id\", \"section_id\",\"context\"]]"
   ]
  },
  {
   "cell_type": "code",
   "execution_count": 55,
   "id": "dc7ef7d1",
   "metadata": {},
   "outputs": [
    {
     "name": "stderr",
     "output_type": "stream",
     "text": [
      "/tmp/ipykernel_544722/1502033480.py:1: SettingWithCopyWarning: \n",
      "A value is trying to be set on a copy of a slice from a DataFrame.\n",
      "Try using .loc[row_indexer,col_indexer] = value instead\n",
      "\n",
      "See the caveats in the documentation: https://pandas.pydata.org/pandas-docs/stable/user_guide/indexing.html#returning-a-view-versus-a-copy\n",
      "  df_f[\"context\"] = df_f[\"context\"].apply(lambda x: re.sub(r'\\<image: [^>]*\\>','' ,x))\n"
     ]
    }
   ],
   "source": [
    "df_f[\"context\"] = df_f[\"context\"].apply(lambda x: re.sub(r'\\<image: [^>]*\\>','' ,x))"
   ]
  },
  {
   "cell_type": "code",
   "execution_count": 77,
   "id": "fb5576bc",
   "metadata": {},
   "outputs": [],
   "source": [
    "class Embedding:\n",
    "    \n",
    "    def __init__(self, embedding_model = None):\n",
    "        \n",
    "        if embedding_model is None:\n",
    "            raise ValueError(\"Please pass a valid Langchain embedding model \")\n",
    "        self.embedding_model = embedding_model\n",
    "        \n",
    "    def create_embedding_text(self, text: str = None):\n",
    "        \n",
    "        if text is None:\n",
    "            raise ValueError(\"Please provide text for which you need to create embedding\")\n",
    "            \n",
    "        embedded_vector = self.embedding_model.embed_query(text)\n",
    "        return embedded_vector\n",
    "    \n",
    "    def create_embedding_document(self, list_of_sentences: list = None):\n",
    "        \n",
    "        if list_of_sentences is None:\n",
    "            raise ValueError(\"Please provide a valid list of sentences for which you need to create embedding\")\n",
    "        \n",
    "        embedded_vector_docs = self.embedding_model.embed_documents(list_of_sentences)\n",
    "        return embedded_vector_docs"
   ]
  },
  {
   "cell_type": "code",
   "execution_count": null,
   "id": "f91a2611",
   "metadata": {},
   "outputs": [],
   "source": []
  },
  {
   "cell_type": "markdown",
   "id": "896158d7",
   "metadata": {},
   "source": [
    "## Langchain Independent Method"
   ]
  },
  {
   "cell_type": "code",
   "execution_count": 88,
   "id": "63267287",
   "metadata": {},
   "outputs": [
    {
     "data": {
      "application/vnd.jupyter.widget-view+json": {
       "model_id": "f160c38cb4384100b5874ce8a264bd23",
       "version_major": 2,
       "version_minor": 0
      },
      "text/plain": [
       "Downloading .gitattributes:   0%|          | 0.00/737 [00:00<?, ?B/s]"
      ]
     },
     "metadata": {},
     "output_type": "display_data"
    },
    {
     "data": {
      "application/vnd.jupyter.widget-view+json": {
       "model_id": "f5cfba26e60a46fdb5d804dd2834f6b0",
       "version_major": 2,
       "version_minor": 0
      },
      "text/plain": [
       "Downloading 1_Pooling/config.json:   0%|          | 0.00/190 [00:00<?, ?B/s]"
      ]
     },
     "metadata": {},
     "output_type": "display_data"
    },
    {
     "data": {
      "application/vnd.jupyter.widget-view+json": {
       "model_id": "a3f8c8545f554d0fae0407a874a0ad7e",
       "version_major": 2,
       "version_minor": 0
      },
      "text/plain": [
       "Downloading README.md:   0%|          | 0.00/11.5k [00:00<?, ?B/s]"
      ]
     },
     "metadata": {},
     "output_type": "display_data"
    },
    {
     "data": {
      "application/vnd.jupyter.widget-view+json": {
       "model_id": "527482125ed64e91b28c624bcd994099",
       "version_major": 2,
       "version_minor": 0
      },
      "text/plain": [
       "Downloading config.json:   0%|          | 0.00/612 [00:00<?, ?B/s]"
      ]
     },
     "metadata": {},
     "output_type": "display_data"
    },
    {
     "data": {
      "application/vnd.jupyter.widget-view+json": {
       "model_id": "0a7c37f7a3784ee48acdb8caf3077236",
       "version_major": 2,
       "version_minor": 0
      },
      "text/plain": [
       "Downloading (…)ce_transformers.json:   0%|          | 0.00/116 [00:00<?, ?B/s]"
      ]
     },
     "metadata": {},
     "output_type": "display_data"
    },
    {
     "data": {
      "application/vnd.jupyter.widget-view+json": {
       "model_id": "749178eb2958422583050f6ba8bcb14f",
       "version_major": 2,
       "version_minor": 0
      },
      "text/plain": [
       "Downloading data_config.json:   0%|          | 0.00/25.5k [00:00<?, ?B/s]"
      ]
     },
     "metadata": {},
     "output_type": "display_data"
    },
    {
     "data": {
      "application/vnd.jupyter.widget-view+json": {
       "model_id": "5407f6b4e04b40698c749fa7a548272c",
       "version_major": 2,
       "version_minor": 0
      },
      "text/plain": [
       "Downloading pytorch_model.bin:   0%|          | 0.00/90.9M [00:00<?, ?B/s]"
      ]
     },
     "metadata": {},
     "output_type": "display_data"
    },
    {
     "data": {
      "application/vnd.jupyter.widget-view+json": {
       "model_id": "abec153550c441d7a4a485b1de8f791b",
       "version_major": 2,
       "version_minor": 0
      },
      "text/plain": [
       "Downloading (…)nce_bert_config.json:   0%|          | 0.00/53.0 [00:00<?, ?B/s]"
      ]
     },
     "metadata": {},
     "output_type": "display_data"
    },
    {
     "data": {
      "application/vnd.jupyter.widget-view+json": {
       "model_id": "8da991f45e584777a30f9d462b6105e5",
       "version_major": 2,
       "version_minor": 0
      },
      "text/plain": [
       "Downloading (…)cial_tokens_map.json:   0%|          | 0.00/112 [00:00<?, ?B/s]"
      ]
     },
     "metadata": {},
     "output_type": "display_data"
    },
    {
     "data": {
      "application/vnd.jupyter.widget-view+json": {
       "model_id": "922730f7ae4347168ecb016e337e3388",
       "version_major": 2,
       "version_minor": 0
      },
      "text/plain": [
       "Downloading tokenizer.json:   0%|          | 0.00/466k [00:00<?, ?B/s]"
      ]
     },
     "metadata": {},
     "output_type": "display_data"
    },
    {
     "data": {
      "application/vnd.jupyter.widget-view+json": {
       "model_id": "b3c56f4ee0714809b412e03da7687b12",
       "version_major": 2,
       "version_minor": 0
      },
      "text/plain": [
       "Downloading tokenizer_config.json:   0%|          | 0.00/383 [00:00<?, ?B/s]"
      ]
     },
     "metadata": {},
     "output_type": "display_data"
    },
    {
     "data": {
      "application/vnd.jupyter.widget-view+json": {
       "model_id": "4a7485d57ef840bb838f8450149b0bbb",
       "version_major": 2,
       "version_minor": 0
      },
      "text/plain": [
       "Downloading train_script.py:   0%|          | 0.00/13.8k [00:00<?, ?B/s]"
      ]
     },
     "metadata": {},
     "output_type": "display_data"
    },
    {
     "data": {
      "application/vnd.jupyter.widget-view+json": {
       "model_id": "819617eaa8c84eaa93361bb8d093da08",
       "version_major": 2,
       "version_minor": 0
      },
      "text/plain": [
       "Downloading vocab.txt:   0%|          | 0.00/232k [00:00<?, ?B/s]"
      ]
     },
     "metadata": {},
     "output_type": "display_data"
    },
    {
     "data": {
      "application/vnd.jupyter.widget-view+json": {
       "model_id": "1a2d524b975b4362aa803c89b42439b6",
       "version_major": 2,
       "version_minor": 0
      },
      "text/plain": [
       "Downloading modules.json:   0%|          | 0.00/349 [00:00<?, ?B/s]"
      ]
     },
     "metadata": {},
     "output_type": "display_data"
    }
   ],
   "source": [
    "embeddings = HuggingFaceEmbeddings(model_name=\"multi-qa-MiniLM-L6-cos-v1\")"
   ]
  },
  {
   "cell_type": "code",
   "execution_count": 89,
   "id": "a2de6b72",
   "metadata": {},
   "outputs": [],
   "source": [
    "embed = Embedding(embedding_model=embeddings)"
   ]
  },
  {
   "cell_type": "code",
   "execution_count": 90,
   "id": "4a5ab7cb",
   "metadata": {},
   "outputs": [],
   "source": [
    "df_f['embeddings'] = df_f['context'].apply(lambda x: embed.create_embedding_text(x))"
   ]
  },
  {
   "cell_type": "code",
   "execution_count": 91,
   "id": "8e705b7a",
   "metadata": {},
   "outputs": [],
   "source": [
    "dff = df_f.drop(['context'],axis=1)"
   ]
  },
  {
   "cell_type": "code",
   "execution_count": 92,
   "id": "382b0544",
   "metadata": {},
   "outputs": [],
   "source": [
    "dff.to_parquet(\"../data/genai_poc/processed/embedding_AI_POC_pdf_extracted_sectional_data_oct_dec_2.parquet.gzip\",compression='gzip')"
   ]
  },
  {
   "cell_type": "code",
   "execution_count": null,
   "id": "04cafdc9",
   "metadata": {},
   "outputs": [],
   "source": [
    "{1:\"distilbert-base-nli-stsb-mean-tokens\", 2: \"multi-qa-MiniLM-L6-cos-v1\", }"
   ]
  },
  {
   "cell_type": "markdown",
   "id": "098f4748",
   "metadata": {},
   "source": [
    "#### Read Embedding and Proceed Further"
   ]
  },
  {
   "cell_type": "code",
   "execution_count": 93,
   "id": "00b9688a",
   "metadata": {},
   "outputs": [],
   "source": [
    "df = pd.read_parquet(\"../data/genai_poc/processed/embedding_AI_POC_pdf_extracted_sectional_data_oct_dec_2.parquet.gzip\")"
   ]
  },
  {
   "cell_type": "code",
   "execution_count": 94,
   "id": "ab98f9f5",
   "metadata": {},
   "outputs": [
    {
     "data": {
      "text/plain": [
       "Index(['id', 'section_id', 'embeddings'], dtype='object')"
      ]
     },
     "execution_count": 94,
     "metadata": {},
     "output_type": "execute_result"
    }
   ],
   "source": [
    "df.columns"
   ]
  },
  {
   "cell_type": "code",
   "execution_count": 95,
   "id": "7bf55d35",
   "metadata": {},
   "outputs": [],
   "source": [
    "df['id_process'] = df[['id','section_id']].apply(lambda x: str(x[0]+1)+str(x[1]), axis=1)"
   ]
  },
  {
   "cell_type": "code",
   "execution_count": 96,
   "id": "08a643b0",
   "metadata": {},
   "outputs": [],
   "source": [
    "df['id_process_len'] = df['id_process'].str.len()"
   ]
  },
  {
   "cell_type": "code",
   "execution_count": 97,
   "id": "4d41d801",
   "metadata": {},
   "outputs": [],
   "source": [
    "df['id_process'] = df['id_process'].apply(lambda x: x+'1'*(5-len(x)))"
   ]
  },
  {
   "cell_type": "code",
   "execution_count": 98,
   "id": "bde18dbf",
   "metadata": {},
   "outputs": [],
   "source": [
    "df.id_process = df.id_process.astype('int')"
   ]
  },
  {
   "cell_type": "code",
   "execution_count": 99,
   "id": "44db321f",
   "metadata": {},
   "outputs": [],
   "source": [
    "embeddings = df.embeddings.to_list()\n",
    "embeddings = np.array(embeddings)"
   ]
  },
  {
   "cell_type": "code",
   "execution_count": 100,
   "id": "3f36f8e0",
   "metadata": {},
   "outputs": [],
   "source": [
    "embeddings = np.array([embedding for embedding in embeddings]).astype(\"float32\")\n",
    "# Step 2: Instantiate the index\n",
    "index = faiss.IndexFlatL2(embeddings.shape[1])\n",
    "# Step 3: Pass the index to IndexIDMap\n",
    "index = faiss.IndexIDMap(index)\n",
    "# Step 4: Add vectors and their IDs\n",
    "index.add_with_ids(embeddings, df.id_process.values)"
   ]
  },
  {
   "cell_type": "code",
   "execution_count": 101,
   "id": "2dad6183",
   "metadata": {},
   "outputs": [],
   "source": [
    "def vector_search(query, num_results=20, index=None, model=None):\n",
    "    index = index\n",
    "    vector = model.create_embedding_text(query)\n",
    "    D, I = index.search(np.array([vector]).astype(\"float32\"), k=num_results)\n",
    "    return D, I"
   ]
  },
  {
   "cell_type": "code",
   "execution_count": 102,
   "id": "b19396d9",
   "metadata": {},
   "outputs": [],
   "source": [
    "text_df = df_f[[\"id\", \"section_id\",\"context\"]]"
   ]
  },
  {
   "cell_type": "code",
   "execution_count": 103,
   "id": "80cb2078",
   "metadata": {},
   "outputs": [],
   "source": [
    "# text_df_page = pd.read_csv(\"../data/genai_poc/processed/text_extracted_page_data_31_10_2023.csv\")"
   ]
  },
  {
   "cell_type": "code",
   "execution_count": 104,
   "id": "b4e18aa9",
   "metadata": {},
   "outputs": [],
   "source": [
    "text_df['id_process'] = text_df[['id','section_id']].apply(lambda x: str(x[0]+1)+str(x[1]), axis=1)\n",
    "\n",
    "text_df['id_process_len'] = text_df['id_process'].str.len()\n",
    "\n",
    "text_df['id_process'] = text_df['id_process'].apply(lambda x: x+'1'*(5-len(x)))\n",
    "\n",
    "text_df.id_process = text_df.id_process.astype('int')"
   ]
  },
  {
   "cell_type": "code",
   "execution_count": null,
   "id": "4ec35ae6",
   "metadata": {},
   "outputs": [],
   "source": []
  },
  {
   "cell_type": "code",
   "execution_count": 105,
   "id": "7f4b067f",
   "metadata": {},
   "outputs": [],
   "source": [
    "query = \"where solder joints had small cracked\""
   ]
  },
  {
   "cell_type": "code",
   "execution_count": 106,
   "id": "450b5c0e",
   "metadata": {},
   "outputs": [],
   "source": [
    "D, I = vector_search(query,num_results=10,index=index,model=embed)"
   ]
  },
  {
   "cell_type": "code",
   "execution_count": null,
   "id": "5f33df6f",
   "metadata": {},
   "outputs": [],
   "source": []
  },
  {
   "cell_type": "code",
   "execution_count": 107,
   "id": "241361cc",
   "metadata": {},
   "outputs": [],
   "source": [
    "text_df.id_process = text_df.id_process.astype('int') ### added on 21.03.2022\n",
    "    \n",
    "result_df = [text_df[text_df.id_process == idx]['context'].values.tolist()[0] for idx in I[0]]"
   ]
  },
  {
   "cell_type": "code",
   "execution_count": 108,
   "id": "e69872ba",
   "metadata": {},
   "outputs": [
    {
     "data": {
      "text/plain": [
       "['1. ANALYSIS OF THE ROOT CAUSE FOR SOLDER JOINT CRACKING \\n\\n  Chaohui Hu, P.E., Weiming Li, P.E., Jianghua Shen, P.E. China CEPREI Laboratory Guangzhou, China hchhx@163.com; liwm@ceprei.com; shenjh@ceprei.com  ',\n",
       " '3. INTRODUCTION \\n\\n Electronic components are interconnected by solder joints, which are the bridge between circuits. The cracking of solder joint will directly lead to the failure of electronic products. Cracks are mostly caused by external stresses[1-2]. However, if we do not explore the root causes according to the specific conditions, we can not give the direction to improve the design or manufacturing process. The Insulated Gate Bipolar Transistor (IGBT) on the control board of a certain type of industrial equipment has been burned out in the United States. Preliminary circuit analysis indicates the burning failure was caused by the excessive heat which induced by the solder joint crack on certain specific points. With the market statistics, numerous products with burning failure are caused by the solder joint crack on one certain pin of the IGBT with the same type which named B-type, while the solder joint on the same IGBT on Type-A or C rarely encounter failure. So it is necessary to conduct failure analysis of IGBT solder joint crack on Type-B board in order to reduce the risk of failure. Visual inspection on the failed market-return product indicated that the E pin and its adjacent area of the IGBT of M6 turn black and the solder joint completely cracks. But the solder joints on other IGBT were not black. The appearance is shown in Figure 1. All the unused samples were normal. ',\n",
       " '6. RECOMMENDATIONS \\n\\n To avoid this defect in the future, we have the following recommendations. 1. Know your part. Throughout the investigation, we discovered many details in the datasheets and manuals (provided by the manufacturer) that were overlooked. Many of these details would have helped mitigate this problem from the beginning. 2. Ensure the part is inspectable. Designers tend to place components as close as possible to this type of part. Ensure there is enough room to visually inspect as many solder joints as possible. This type of defect is not always evident in x-ray analysis. 3. Use a reputable failure analysis lab. A good lab can be invaluable in investigations. Try not to tell the lab how to investigate, simply explain the problem and let them make recommendations. 4. Work closely with your design team, solder paste and solder stencil vendors. Many of them have implemented mitigation strategies and they can help determine the correct one for your application. 5. Eliminate secondary reflow on BGA parts. Secondary reflow provides an opportunity for joint separation due to component flex, especially in the absence of flux. The oxidized solder will not re- coalesce. 6. Inspect regularly. Unknown changes can occur at the part manufacturer that can directly affect part deflection. It may push beyond your mitigation strategy’s capabilities. This type of defect can manifest as an intermittent failure which has a higher probability of escape. ',\n",
       " '13. REFERENCES \\n\\n FAILURES OF WLP AFTER SMT This section will examine the common failures of WLP. The most common problems are open joint and bridging. Failure locations/interfaces typically seen at solder joints are illustrated in Figure 28. They are categorized as Type 1 - 4 interfaces in board level interconnect failure analysis.  Figure 28. Failure locations at solder joint. Since good assembly depends on good solder print process, the printing process has to have statistical process control with correct limits and alarms to flag cases of low solder volume. The typical SMT joint defect when high warpage and low paste volume are involved will be head and pillow (HnP). This is a defect where both the paste deposit and the solder bump reached a full state of melt during reflow but failed to coalesce [5]. The HnP defect on WLP package shows in figure 29 through 3D X-rays image. It is close to the Type 3 interface at a WLP/PCB solder joint location.  Figure 29 X-rays image of HnP Another common defect is Non wet open (NWO) Non wet open solder joints defect are at or close to the interface between solder and PCB pad type 3 interface. It can be caused by a number of factors, such as warpage mis-match between WLP and PCB, insufficient activation capability of flux/paste, excessive oxidation of solder balls. It can happened with a printing process where the paste wicked from the pad to the ball or clogged aperture that is happened during printing or contamination of the PCB pads. Most common NWO in WLP will happen with flux dipping due to warpage, flux type and activity and dipping process parameters. Figure 30 shows the NWO where the WLP solder ball just sits on the pad, but it did not coalesce to it.  Z-height  SJ SOH   Proceedings of SMTA International, Sep. 28 - Oct. 2, 2014, Rosemont, IL Page 42Figure 30. Cross section of NWO defect Solder joints bridging defect is shown in Figure 31 where two adjustment joints are merged together. As solder joints pitch size decreases as seen in WLP, the occurrence of these defects would increase. Process optimization is required for ball attach and SMT printing process to eliminate the defects. Usually solder bridging can detect at 2D X-ray inspection.  Figure 31. Cross section of bridging defect Solder voiding in WLP could indicate a skew in the process. Size and number of voids need to be monitored since the joint is small and excessive, voiding can cause bridging issues during SMT or reliability problem. Figure 32 shows example of a void in WLP joint in 3D X-ray.  Figure 32. Void in WLP Figure 33 shows missing ball on WLP. The fine pitch could be a challenge for ball attach as well. Usually a missing ball will be caught by the placement machine vision that inspects each ball, but there were cases that the vision tolerance passes some missing balls. Figure 33 (a) shows three missing balls at the WLP corner after assembly. It is seeing at 2D X-ray by light color dots. Figure 33 (b) shows a cross section of an open joint while only the printed paste is shown on the WLP land.  (a) (b) Figure 33. Missing ball ',\n",
       " '11. COMMON \\n\\n FAILURES OF WLP AFTER SMT This section will examine the common failures of WLP. The most common problems are open joint and bridging. Failure locations/interfaces typically seen at solder joints are illustrated in Figure 28. They are categorized as Type 1 - 4 interfaces in board level interconnect failure analysis.  Figure 28. Failure locations at solder joint. Since good assembly depends on good solder print process, the printing process has to have statistical process control with correct limits and alarms to flag cases of low solder volume. The typical SMT joint defect when high warpage and low paste volume are involved will be head and pillow (HnP). This is a defect where both the paste deposit and the solder bump reached a full state of melt during reflow but failed to coalesce [5]. The HnP defect on WLP package shows in figure 29 through 3D X-rays image. It is close to the Type 3 interface at a WLP/PCB solder joint location.  Figure 29 X-rays image of HnP Another common defect is Non wet open (NWO) Non wet open solder joints defect are at or close to the interface between solder and PCB pad type 3 interface. It can be caused by a number of factors, such as warpage mis-match between WLP and PCB, insufficient activation capability of flux/paste, excessive oxidation of solder balls. It can happened with a printing process where the paste wicked from the pad to the ball or clogged aperture that is happened during printing or contamination of the PCB pads. Most common NWO in WLP will happen with flux dipping due to warpage, flux type and activity and dipping process parameters. Figure 30 shows the NWO where the WLP solder ball just sits on the pad, but it did not coalesce to it.  Z-height  SJ SOH   Proceedings of SMTA International, Sep. 28 - Oct. 2, 2014, Rosemont, IL Page 42Figure 30. Cross section of NWO defect Solder joints bridging defect is shown in Figure 31 where two adjustment joints are merged together. As solder joints pitch size decreases as seen in WLP, the occurrence of these defects would increase. Process optimization is required for ball attach and SMT printing process to eliminate the defects. Usually solder bridging can detect at 2D X-ray inspection.  Figure 31. Cross section of bridging defect Solder voiding in WLP could indicate a skew in the process. Size and number of voids need to be monitored since the joint is small and excessive, voiding can cause bridging issues during SMT or reliability problem. Figure 32 shows example of a void in WLP joint in 3D X-ray.  Figure 32. Void in WLP Figure 33 shows missing ball on WLP. The fine pitch could be a challenge for ball attach as well. Usually a missing ball will be caught by the placement machine vision that inspects each ball, but there were cases that the vision tolerance passes some missing balls. Figure 33 (a) shows three missing balls at the WLP corner after assembly. It is seeing at 2D X-ray by light color dots. Figure 33 (b) shows a cross section of an open joint while only the printed paste is shown on the WLP land.  (a) (b) Figure 33. Missing ball ',\n",
       " '1. CRACK PATHS AND FRACTURE LOADS OF BGA SOLDER JOINTS \\n\\n UNDER BENDING AS A FUNCTION OF STRAIN RATE AND MODE RATIO Amir Nourani, Saeed Akbari and Jan K. Spelt Department of Mechanical and Industrial Engineering, University of Toronto Toronto, ON, Canada spelt@mie.utoronto.ca ',\n",
       " '3. INTRODUCTION \\n\\n Predictive models for fatigue life estimation of solder joints in general are empirical in nature and usually involve a relation between a certain damage parameter, for instance, strain energy density or inelastic strain to the experimentally measured characteristic life. The most common approach averages the damage parameter accumulated in the region of the solder joint with the highest likelihood of failure. A wide variety of such models exist for SnPb based solder joints to a large extent and to a lesser degree for lead free solder joints1,2,3,4,6,9. What has been however missing from the picture is an intermediate set of data, which is, although not necessary for all empirical models, may shed some light into the crack behavior of solder joints as a function of the imposed strain. Darveaux10 in his work has provided an extensive range of data for Sn-Pb based alloys as well as for Sn-Ag solder alloy. This work focuses on crack growth rate measurements for Sn/Ag/Cu solder alloy, more specifically, for Sn4%Ag0.5%Cu. ',\n",
       " '2. ABSTRACT \\n\\n Increasing the functionality and decreasing the size of products used in mobile, wireless and other handheld devices requires the use of wafer level packages with 0.3 mm or smaller pitches. As the package pitch is reduced, it brings new challenges to the assembly process. Printing processes become more critical as the pads’ sizes are reduced and the package solder balls become smaller. The focus of this paper is on the assembly process of 0.3 mm and 0.260 mm pitch wafer level packages. This paper will describe the test vehicle used and the process characterization, material selection and inspection for successful assembly of the packages on a board similar to a product. It will also provide a process envelope addressing paste printing and flux dipping. Finally, it will discuss common failure modes during SMT and failure analysis methods for the packages. INTRODUCTION The shift in electronic toward small, thin, and higher signal density requires new packaging solutions. The traditional substrate base package is being replaced by wafer level package (WLP) where the integrated circuit is done on the wafer. This allows package scaling. The package is the same size as the silicon die. This technology derives smaller pitch and high density routing for 0.3 mm pitch and below. As pitch becomes smaller, it increases the challenges of board assembly and requires a new process to be considered during assembly. The objective of this paper is to explore feasibility of successful assembly of 0.3mm pitch and below on a product like board for high volume manufacturing. ',\n",
       " '3. INTRODUCTION \\n\\n Solder joints reliability throughout multiple applications including mechanical and isothermal testing is a great concern in laminate assemblies of PCBs. Multiple drops, certain levels of vibration, and excessive use in extreme temperature can cause the solder joints to fail, which can cause the entire device to malfunction. Throughout the past decades, the industry standard for solder material was SnPb solders. Based on the high levels of toxicity found in lead, the industry has begun experimenting with multiple types on Pb-free solders [1], [2]. The main goal of researchers is to develop a solder whose characteristics, including low- melting temperature, sufficient wetting and low cost, match or exceed the SnPb counterpart. In order to achieve this, different dopant levels of the solder paste alloy are examined. The material combination that has emerged is the SAC solder (a mix of SnAgCu). Proceedings of the SMTA Pan Pacific Microelectronics Symposium 2020Upon further testing of the SAC solder through multiple methods, it has been found that SAC solders degrade exponentially when aged. This is a major concern in the electronics industry for any components used for months or even years. The major contribution to this degradation in lead-free solder joint material is the accumulation of the low cyclic stress induced on the bulk solder near the intermetallic formation over a long period. Multiple testing methods were performed at Auburn University with a variety of solder paste materials, PCB laminates, and component sizes and materials to understand the causes of this degradation and establish a suitable replacement for the SnPb solder. ',\n",
       " '4. MORPHOLOGICAL ANALYSIS \\n\\n As for the failed Type-B board, metallographic section analysis was carried out on the black solder joint. The result showed that the solder joint on Pin E of M6 had completely cracked and the solder seemed like re-melting, which indicated this area had experienced high temperatures.  Figure 1. Appearance for the IGBT areas Analyzing for the Pin G of M6, the solder joint also had completely cracked. Fracture appeared in the middle of solder, part of the upper and lower crack surface could not fit. It indicateed this solder joint experienced fatigue fracture[3-4]. Additionally, cracks were also found on the solder joint of M4. Moreover, microcracks were also found on the solder joints of the IGBTs in unused Type-B board. The representative views for the sections of solder joints are shown in Figure 2.   M6 M4 Pin E Pin G Pin E Pin G Proceedings of SMTA International, Sept. 22-26, 2019, Rosemont, IL, USA 293 Pin E for M6 of Failure Board Pin G for M6 of Failure Board  Pin E for M4 of Failure Board Pin E for M6 of Unused Board Figure 2. Representative Views for the Sections ']"
      ]
     },
     "execution_count": 108,
     "metadata": {},
     "output_type": "execute_result"
    }
   ],
   "source": [
    "result_df"
   ]
  },
  {
   "cell_type": "code",
   "execution_count": null,
   "id": "1bf9be82",
   "metadata": {},
   "outputs": [],
   "source": []
  }
 ],
 "metadata": {
  "kernelspec": {
   "display_name": "Python 3 (ipykernel)",
   "language": "python",
   "name": "python3"
  },
  "language_info": {
   "codemirror_mode": {
    "name": "ipython",
    "version": 3
   },
   "file_extension": ".py",
   "mimetype": "text/x-python",
   "name": "python",
   "nbconvert_exporter": "python",
   "pygments_lexer": "ipython3",
   "version": "3.11.4"
  }
 },
 "nbformat": 4,
 "nbformat_minor": 5
}
