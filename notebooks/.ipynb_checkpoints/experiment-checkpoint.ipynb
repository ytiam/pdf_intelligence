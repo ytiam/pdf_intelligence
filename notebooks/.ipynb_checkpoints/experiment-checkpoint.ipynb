{
 "cells": [
  {
   "cell_type": "code",
   "execution_count": 4,
   "id": "1a5f8e98-a8f8-4cb7-8f0f-05b0d3064d9a",
   "metadata": {},
   "outputs": [
    {
     "name": "stderr",
     "output_type": "stream",
     "text": [
      "[nltk_data] Downloading package stopwords to nltk_data...\n",
      "[nltk_data]   Unzipping corpora/stopwords.zip.\n"
     ]
    }
   ],
   "source": [
    "import sys\n",
    "sys.path.append(\"../lib/\")\n",
    "import base64\n",
    "import pandas as pd\n",
    "from dataiku_utils import *\n",
    "from galaxy_utils import *\n",
    "from dataloader_utils import *\n",
    "# Used to create the dense document vectors.\n",
    "from sentence_transformers import SentenceTransformer\n",
    "import faiss\n",
    "# Used to create and store the Faiss index.\n",
    "import numpy as np\n",
    "import pickle\n",
    "from pathlib import Path\n",
    "import os\n",
    "import string\n",
    "from flask import request,send_file\n",
    "import pytesseract\n",
    "from pdf2image import convert_from_path\n",
    "from pdf2image import convert_from_bytes\n",
    "import io\n",
    "import gc\n",
    "import spacy\n",
    "import cv2\n",
    "nlp = spacy.load('en_core_web_sm')\n",
    "import nltk\n",
    "# nltk.download('punkt')"
   ]
  },
  {
   "cell_type": "code",
   "execution_count": 2,
   "id": "a082291d-959b-42fa-b23d-54d73b26dec3",
   "metadata": {},
   "outputs": [],
   "source": [
    "# conclusion_uploaded_pdf.py --> process_image_conversion_pdf "
   ]
  },
  {
   "cell_type": "code",
   "execution_count": 3,
   "id": "2eacd3ba-00e3-4bbe-a12d-951eb02b4f2a",
   "metadata": {},
   "outputs": [],
   "source": []
  },
  {
   "cell_type": "code",
   "execution_count": 5,
   "id": "52fbb918-88a7-4241-b002-caa585f4b7ff",
   "metadata": {},
   "outputs": [],
   "source": [
    "df, index, id_mapping_df, word_list, fold_files_df, file_type_mapping, conclusion_df, model, zendesk_df = load_data_and_model_files_v2()"
   ]
  },
  {
   "cell_type": "code",
   "execution_count": null,
   "id": "94da0e3f-2a3c-43ab-b8f9-d76d4c24f418",
   "metadata": {},
   "outputs": [],
   "source": []
  },
  {
   "cell_type": "code",
   "execution_count": null,
   "id": "447c6c28-29bc-470b-be22-d9cfbdb1032d",
   "metadata": {},
   "outputs": [],
   "source": []
  },
  {
   "cell_type": "code",
   "execution_count": null,
   "id": "949f4b89-90da-4c65-aa0b-7baf6f16c391",
   "metadata": {},
   "outputs": [],
   "source": []
  },
  {
   "cell_type": "code",
   "execution_count": null,
   "id": "90dd36dd-904d-41dc-aaa8-3560a365eb3b",
   "metadata": {},
   "outputs": [],
   "source": []
  },
  {
   "cell_type": "code",
   "execution_count": null,
   "id": "16009aab-14b4-4e5d-a79d-e6a25ad8b718",
   "metadata": {},
   "outputs": [],
   "source": []
  }
 ],
 "metadata": {
  "kernelspec": {
   "display_name": "Python 3 (ipykernel)",
   "language": "python",
   "name": "python3"
  },
  "language_info": {
   "codemirror_mode": {
    "name": "ipython",
    "version": 3
   },
   "file_extension": ".py",
   "mimetype": "text/x-python",
   "name": "python",
   "nbconvert_exporter": "python",
   "pygments_lexer": "ipython3",
   "version": "3.8.17"
  }
 },
 "nbformat": 4,
 "nbformat_minor": 5
}
