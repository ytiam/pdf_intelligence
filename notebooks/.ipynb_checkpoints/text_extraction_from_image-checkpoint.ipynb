{
 "cells": [
  {
   "cell_type": "code",
   "execution_count": 1,
   "id": "335753d3",
   "metadata": {},
   "outputs": [],
   "source": [
    "from nltk.tokenize import sent_tokenize\n",
    "import pandas as pd\n",
    "from typing import Union\n",
    "import pdfplumber\n",
    "import fitz\n",
    "import glob, sys\n",
    "import os\n",
    "from glob import glob\n",
    "import re\n",
    "from collections import OrderedDict\n",
    "import requests\n",
    "import pickle\n",
    "from PIL import Image"
   ]
  },
  {
   "cell_type": "code",
   "execution_count": 6,
   "id": "d9af8736",
   "metadata": {},
   "outputs": [],
   "source": [
    "pdf_data = fitz.open(\"../data/genai_poc/raw/AI_POC_47Papers_Nov06_SMTA/A NICKEL-PALLADIUM-GOLD IC LEAD FINISH AND THE POTENTIAL.pdf\")"
   ]
  },
  {
   "cell_type": "code",
   "execution_count": 18,
   "id": "4a525906",
   "metadata": {},
   "outputs": [],
   "source": [
    "pg_ = pdf_data.get_page_images(4)"
   ]
  },
  {
   "cell_type": "code",
   "execution_count": 19,
   "id": "cb362e06",
   "metadata": {},
   "outputs": [],
   "source": [
    "img = pg_[0]"
   ]
  },
  {
   "cell_type": "code",
   "execution_count": 20,
   "id": "b0e31f5e",
   "metadata": {},
   "outputs": [
    {
     "data": {
      "text/plain": [
       "(23, 0, 224, 187, 8, 'CalGray', '', 'Im2', 'DCTDecode')"
      ]
     },
     "execution_count": 20,
     "metadata": {},
     "output_type": "execute_result"
    }
   ],
   "source": [
    "img"
   ]
  },
  {
   "cell_type": "code",
   "execution_count": 35,
   "id": "261356ba",
   "metadata": {},
   "outputs": [],
   "source": [
    "dimlimit = 100  # 100  # each image side must be greater than this\n",
    "relsize = 0.05  # 0.05  # image : image size ratio must be larger than this (5%)\n",
    "abssize = 2048  # 2048  # absolute image size limit 2 KB: ignore if smaller"
   ]
  },
  {
   "cell_type": "code",
   "execution_count": 36,
   "id": "f5b301df",
   "metadata": {},
   "outputs": [],
   "source": []
  },
  {
   "cell_type": "code",
   "execution_count": 42,
   "id": "8aca0865",
   "metadata": {},
   "outputs": [],
   "source": [
    "for j, img in enumerate(pg_):\n",
    "    xref = img[0]\n",
    "    width = img[2]\n",
    "    height = img[3]\n",
    "    if min(width, height) <= dimlimit:\n",
    "            continue\n",
    "    \n",
    "    image = recoverpix(pdf_data, img)\n",
    "    n = image[\"colorspace\"]\n",
    "    imgdata = image[\"image\"]\n",
    "    if len(imgdata) <= abssize:\n",
    "        continue\n",
    "    if len(imgdata) / (width * height * n) <= relsize:\n",
    "        continue\n",
    "    \n",
    "    fout = open(f\"../data/test_img_{j}.jpg\", \"wb\")\n",
    "    fout.write(imgdata)\n",
    "    fout.close()"
   ]
  },
  {
   "cell_type": "code",
   "execution_count": 38,
   "id": "e9e03e08",
   "metadata": {},
   "outputs": [],
   "source": []
  },
  {
   "cell_type": "code",
   "execution_count": 75,
   "id": "f5a0e31d",
   "metadata": {},
   "outputs": [],
   "source": [
    "class images_from_pdf_utils():\n",
    "    \n",
    "    def __init__(self, pdf_path):\n",
    "        self.pdf_path = pdf_path\n",
    "        self.doc = fitz.open(self.pdf_path)\n",
    "        \n",
    "    def recoverpix(self, doc, item):\n",
    "        xref = item[0]  # xref of PDF image\n",
    "        smask = item[1]  # xref of its /SMask\n",
    "\n",
    "        # special case: /SMask or /Mask exists\n",
    "        if smask > 0:\n",
    "            pix0 = fitz.Pixmap(doc.extract_image(xref)[\"image\"])\n",
    "            if pix0.alpha:  # catch irregular situation\n",
    "                pix0 = fitz.Pixmap(pix0, 0)  # remove alpha channel\n",
    "            mask = fitz.Pixmap(doc.extract_image(smask)[\"image\"])\n",
    "\n",
    "            try:\n",
    "                pix = fitz.Pixmap(pix0, mask)\n",
    "            except:  # fallback to original base image in case of problems\n",
    "                pix = fitz.Pixmap(doc.extract_image(xref)[\"image\"])\n",
    "\n",
    "            if pix0.n > 3:\n",
    "                ext = \"pam\"\n",
    "            else:\n",
    "                ext = \"png\"\n",
    "\n",
    "            return {  # create dictionary expected by caller\n",
    "                \"ext\": ext,\n",
    "                \"colorspace\": pix.colorspace.n,\n",
    "                \"image\": pix.tobytes(ext),\n",
    "            }\n",
    "\n",
    "        # special case: /ColorSpace definition exists\n",
    "        # to be sure, we convert these cases to RGB PNG images\n",
    "        if \"/ColorSpace\" in doc.xref_object(xref, compressed=True):\n",
    "            pix = fitz.Pixmap(doc, xref)\n",
    "            pix = fitz.Pixmap(fitz.csRGB, pix)\n",
    "            return {  # create dictionary expected by caller\n",
    "                \"ext\": \"png\",\n",
    "                \"colorspace\": 3,\n",
    "                \"image\": pix.tobytes(\"png\"),\n",
    "            }\n",
    "        return doc.extract_image(xref)\n",
    "        \n",
    "    def get_image_list_per_page(self, pg_no: int, image_save_path: str = None):\n",
    "        pg_ = self.doc.get_page_images(pg_no)\n",
    "        \n",
    "        if image_save_path is not None:\n",
    "            image_path = image_save_path\n",
    "        else:\n",
    "            image_path = os.path.dirname(os.path.abspath(self.pdf_path))+'/out/images_in_pages/'\n",
    "            \n",
    "        fold = os.path.basename(self.pdf_path).replace('.pdf','')\n",
    "        \n",
    "        self.fold_path = os.path.join(image_path, fold)\n",
    "        \n",
    "        if not os.path.exists(self.fold_path):\n",
    "            os.makedirs(self.fold_path)\n",
    "            \n",
    "        dimlimit = 100  # 100  # each image side must be greater than this\n",
    "        relsize = 0.05  # 0.05  # image : image size ratio must be larger than this (5%)\n",
    "        abssize = 2048  # 2048  # absolute image size limit 2 KB: ignore if smaller\n",
    "        \n",
    "        for j, img in enumerate(pg_):\n",
    "            xref = img[0]\n",
    "            width = img[2]\n",
    "            height = img[3]\n",
    "            if min(width, height) <= dimlimit:\n",
    "                    continue\n",
    "\n",
    "            image = recoverpix(pdf_data, img)\n",
    "            \n",
    "            print(image)\n",
    "            n = image[\"colorspace\"]\n",
    "            imgdata = image[\"image\"]\n",
    "            if len(imgdata) <= abssize:\n",
    "                continue\n",
    "            if len(imgdata) / (width * height * n) <= relsize:\n",
    "                continue\n",
    "\n",
    "            fout = open(f\"{self.fold_path}/pg_{pg_no}_img_{j}.jpg\", \"wb\")\n",
    "            fout.write(imgdata)\n",
    "            fout.close()\n",
    "            \n",
    "    def get_images(self, image_save_path: str = None):\n",
    "        for pg in range(self.doc.page_count):\n",
    "            self.get_image_list_per_page(pg_no = pg, image_save_path = image_save_path)\n",
    "        print(f\"All Extracted Images from this PDF are saved at {self.fold_path}/\")"
   ]
  },
  {
   "cell_type": "code",
   "execution_count": null,
   "id": "3bb908ed",
   "metadata": {},
   "outputs": [],
   "source": []
  },
  {
   "cell_type": "code",
   "execution_count": 94,
   "id": "b845416b",
   "metadata": {},
   "outputs": [],
   "source": [
    "kk = images_from_pdf_utils(\"../data/genai_poc/raw/AI_POC_47Papers_Nov06_SMTA/Component and Printed Wiring Board Finish Effects on QFN Solder Joint Formation.pdf\")"
   ]
  },
  {
   "cell_type": "code",
   "execution_count": 88,
   "id": "ecbac9a9",
   "metadata": {},
   "outputs": [
    {
     "ename": "TypeError",
     "evalue": "'bool' object is not subscriptable",
     "output_type": "error",
     "traceback": [
      "\u001b[0;31m---------------------------------------------------------------------------\u001b[0m",
      "\u001b[0;31mTypeError\u001b[0m                                 Traceback (most recent call last)",
      "Cell \u001b[0;32mIn[88], line 1\u001b[0m\n\u001b[0;32m----> 1\u001b[0m kk\u001b[38;5;241m.\u001b[39mget_images()\n",
      "Cell \u001b[0;32mIn[75], line 88\u001b[0m, in \u001b[0;36mimages_from_pdf_utils.get_images\u001b[0;34m(self, image_save_path)\u001b[0m\n\u001b[1;32m     86\u001b[0m \u001b[38;5;28;01mdef\u001b[39;00m \u001b[38;5;21mget_images\u001b[39m(\u001b[38;5;28mself\u001b[39m, image_save_path: \u001b[38;5;28mstr\u001b[39m \u001b[38;5;241m=\u001b[39m \u001b[38;5;28;01mNone\u001b[39;00m):\n\u001b[1;32m     87\u001b[0m     \u001b[38;5;28;01mfor\u001b[39;00m pg \u001b[38;5;129;01min\u001b[39;00m \u001b[38;5;28mrange\u001b[39m(\u001b[38;5;28mself\u001b[39m\u001b[38;5;241m.\u001b[39mdoc\u001b[38;5;241m.\u001b[39mpage_count):\n\u001b[0;32m---> 88\u001b[0m         \u001b[38;5;28mself\u001b[39m\u001b[38;5;241m.\u001b[39mget_image_list_per_page(pg_no \u001b[38;5;241m=\u001b[39m pg, image_save_path \u001b[38;5;241m=\u001b[39m image_save_path)\n\u001b[1;32m     89\u001b[0m     \u001b[38;5;28mprint\u001b[39m(\u001b[38;5;124mf\u001b[39m\u001b[38;5;124m\"\u001b[39m\u001b[38;5;124mAll Extracted Images from this PDF are saved at \u001b[39m\u001b[38;5;132;01m{\u001b[39;00m\u001b[38;5;28mself\u001b[39m\u001b[38;5;241m.\u001b[39mfold_path\u001b[38;5;132;01m}\u001b[39;00m\u001b[38;5;124m/\u001b[39m\u001b[38;5;124m\"\u001b[39m)\n",
      "Cell \u001b[0;32mIn[75], line 72\u001b[0m, in \u001b[0;36mimages_from_pdf_utils.get_image_list_per_page\u001b[0;34m(self, pg_no, image_save_path)\u001b[0m\n\u001b[1;32m     69\u001b[0m \u001b[38;5;28;01mif\u001b[39;00m \u001b[38;5;28mmin\u001b[39m(width, height) \u001b[38;5;241m<\u001b[39m\u001b[38;5;241m=\u001b[39m dimlimit:\n\u001b[1;32m     70\u001b[0m         \u001b[38;5;28;01mcontinue\u001b[39;00m\n\u001b[0;32m---> 72\u001b[0m image \u001b[38;5;241m=\u001b[39m recoverpix(pdf_data, img)\n\u001b[1;32m     74\u001b[0m \u001b[38;5;28mprint\u001b[39m(image)\n\u001b[1;32m     75\u001b[0m n \u001b[38;5;241m=\u001b[39m image[\u001b[38;5;124m\"\u001b[39m\u001b[38;5;124mcolorspace\u001b[39m\u001b[38;5;124m\"\u001b[39m]\n",
      "Cell \u001b[0;32mIn[36], line 7\u001b[0m, in \u001b[0;36mrecoverpix\u001b[0;34m(doc, item)\u001b[0m\n\u001b[1;32m      5\u001b[0m \u001b[38;5;66;03m# special case: /SMask or /Mask exists\u001b[39;00m\n\u001b[1;32m      6\u001b[0m \u001b[38;5;28;01mif\u001b[39;00m smask \u001b[38;5;241m>\u001b[39m \u001b[38;5;241m0\u001b[39m:\n\u001b[0;32m----> 7\u001b[0m     pix0 \u001b[38;5;241m=\u001b[39m fitz\u001b[38;5;241m.\u001b[39mPixmap(doc\u001b[38;5;241m.\u001b[39mextract_image(xref)[\u001b[38;5;124m\"\u001b[39m\u001b[38;5;124mimage\u001b[39m\u001b[38;5;124m\"\u001b[39m])\n\u001b[1;32m      8\u001b[0m     \u001b[38;5;28;01mif\u001b[39;00m pix0\u001b[38;5;241m.\u001b[39malpha:  \u001b[38;5;66;03m# catch irregular situation\u001b[39;00m\n\u001b[1;32m      9\u001b[0m         pix0 \u001b[38;5;241m=\u001b[39m fitz\u001b[38;5;241m.\u001b[39mPixmap(pix0, \u001b[38;5;241m0\u001b[39m)  \u001b[38;5;66;03m# remove alpha channel\u001b[39;00m\n",
      "\u001b[0;31mTypeError\u001b[0m: 'bool' object is not subscriptable"
     ]
    }
   ],
   "source": [
    "kk.get_images()"
   ]
  },
  {
   "cell_type": "code",
   "execution_count": null,
   "id": "85567e58",
   "metadata": {},
   "outputs": [],
   "source": []
  },
  {
   "cell_type": "code",
   "execution_count": 12,
   "id": "26a0226d",
   "metadata": {},
   "outputs": [],
   "source": [
    "from spire.pdf.common import *\n",
    "from spire.pdf import *\n",
    "class images_from_pdf_utils():\n",
    "    \n",
    "    def __init__(self, pdf_path):\n",
    "        self.pdf_path = pdf_path\n",
    "        self.doc = PdfDocument()\n",
    "        self.doc.LoadFromFile(self.pdf_path)\n",
    "        \n",
    "    def get_image_list_per_page(self, pg_no: int, image_save_path: str = None):\n",
    "        pg_ = self.doc.Pages[pg_no]\n",
    "        \n",
    "        if image_save_path is not None:\n",
    "            image_path = image_save_path\n",
    "        else:\n",
    "            image_path = os.path.dirname(os.path.abspath(self.pdf_path))+'/out/images_in_pages/'\n",
    "            \n",
    "        fold = os.path.basename(self.pdf_path).replace('.pdf','')\n",
    "        \n",
    "        self.fold_path = os.path.join(image_path, fold)\n",
    "        \n",
    "        if not os.path.exists(self.fold_path):\n",
    "            os.makedirs(self.fold_path)\n",
    "            \n",
    "        images = []\n",
    "        for image in pg_.ExtractImages():\n",
    "            images.append(image)\n",
    "        \n",
    "        for index, image in enumerate(images):\n",
    "            imageFileName = f'{self.fold_path}/pg_{pg_no}_img_{index}.png'\n",
    "            image.Save(imageFileName, ImageFormat.get_Png())\n",
    "        #self.doc.Close()\n",
    "            \n",
    "    def get_images(self, image_save_path: str = None):\n",
    "        for pg in range(len(self.doc.Pages)):\n",
    "            self.get_image_list_per_page(pg_no = pg, image_save_path = image_save_path)\n",
    "        print(f\"All Extracted Images from this PDF are saved at {self.fold_path}/\")\n",
    "        self.doc.Close()"
   ]
  },
  {
   "cell_type": "code",
   "execution_count": 15,
   "id": "8f4cf197",
   "metadata": {},
   "outputs": [],
   "source": [
    "kk = images_from_pdf_utils(\"../data/genai_poc/raw/AI_POC_47Papers_Nov06_SMTA/AUTOMOTIVE PBGA ASSEMBLY AND BOARD-LEVEL RELIABILITY WITH LEAD-FREE VERSUS LEAD-TIN INTERCONNECT.PDF\")"
   ]
  },
  {
   "cell_type": "code",
   "execution_count": 16,
   "id": "fd1fc33b",
   "metadata": {},
   "outputs": [
    {
     "name": "stdout",
     "output_type": "stream",
     "text": [
      "All Extracted Images from this PDF are saved at /home/data/genai_poc/raw/AI_POC_47Papers_Nov06_SMTA/out/images_in_pages/AUTOMOTIVE PBGA ASSEMBLY AND BOARD-LEVEL RELIABILITY WITH LEAD-FREE VERSUS LEAD-TIN INTERCONNECT.PDF/\n"
     ]
    }
   ],
   "source": [
    "kk.get_images()"
   ]
  },
  {
   "cell_type": "code",
   "execution_count": null,
   "id": "9cc1d458",
   "metadata": {},
   "outputs": [],
   "source": []
  }
 ],
 "metadata": {
  "kernelspec": {
   "display_name": "Python 3 (ipykernel)",
   "language": "python",
   "name": "python3"
  },
  "language_info": {
   "codemirror_mode": {
    "name": "ipython",
    "version": 3
   },
   "file_extension": ".py",
   "mimetype": "text/x-python",
   "name": "python",
   "nbconvert_exporter": "python",
   "pygments_lexer": "ipython3",
   "version": "3.11.4"
  }
 },
 "nbformat": 4,
 "nbformat_minor": 5
}
